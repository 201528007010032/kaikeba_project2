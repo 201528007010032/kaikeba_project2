{
 "cells": [
  {
   "cell_type": "markdown",
   "metadata": {},
   "source": [
    "# 二分类，多分类，多标签分类"
   ]
  },
  {
   "cell_type": "code",
   "execution_count": 34,
   "metadata": {},
   "outputs": [],
   "source": [
    "import numpy as np\n",
    "import tensorflow as tf\n",
    "from sklearn.metrics import f1_score, classification_report, confusion_matrix, accuracy_score, precision_score, recall_score"
   ]
  },
  {
   "cell_type": "markdown",
   "metadata": {},
   "source": [
    "# 二分类"
   ]
  },
  {
   "cell_type": "markdown",
   "metadata": {},
   "source": [
    "$F1=\\frac{2*precision*recall}{precision+recall}$\n",
    "\n",
    "   精确率(P) ： $precision=\\frac{TP}{TP+FP}$\n",
    "   \n",
    "   召回率(R) ： $recall=\\frac{TP}{TP+FN}$\n",
    " \n",
    "对于数据测试结果有下面4种情况：\n",
    "+ 真阳性（TP）: 预测为正， 实际也为正\n",
    "+ 假阳性（FP）: 预测为正， 实际为负\n",
    "+ 假阴性（FN）: 预测为负，实际为正\n",
    "+ 真阴性（TN）: 预测为负， 实际也为负"
   ]
  },
  {
   "cell_type": "code",
   "execution_count": 35,
   "metadata": {},
   "outputs": [
    {
     "name": "stdout",
     "output_type": "stream",
     "text": [
      "0.6666666666666665\n",
      "              precision    recall  f1-score   support\n",
      "\n",
      "           0       0.67      0.80      0.73         5\n",
      "           1       0.75      0.60      0.67         5\n",
      "\n",
      "    accuracy                           0.70        10\n",
      "   macro avg       0.71      0.70      0.70        10\n",
      "weighted avg       0.71      0.70      0.70        10\n",
      "\n"
     ]
    }
   ],
   "source": [
    "# positive\n",
    "y_true = [0, 1, 0, 0, 1, 0, 1, 0, 1, 1]\n",
    "y_pred = [0, 1, 1, 0, 0, 0, 1, 0, 0, 1]\n",
    "print(f1_score(y_true,y_pred))\n",
    "print(classification_report(y_true,y_pred))"
   ]
  },
  {
   "cell_type": "code",
   "execution_count": 52,
   "metadata": {},
   "outputs": [],
   "source": [
    "import matplotlib.pyplot as plt\n",
    "import itertools\n",
    "import numpy as np\n",
    "\n",
    "\n",
    "def plot_confusion_matrix(cm, classes,\n",
    "                          title='Confusion matrix',\n",
    "                          cmap=plt.cm.Blues):\n",
    "    \"\"\"\n",
    "    This function prints and plots the confusion matrix.\n",
    "　　 cm:混淆矩阵值\n",
    "　　 classes:分类标签\n",
    "　　 \"\"\"\n",
    "    plt.imshow(cm, interpolation='nearest', cmap=cmap)\n",
    "    plt.title(title)\n",
    "    plt.colorbar()\n",
    "    tick_marks = np.arange(len(classes))\n",
    "    plt.xticks(tick_marks, classes, rotation=0)\n",
    "    plt.yticks(tick_marks, classes)\n",
    "\n",
    "    thresh = cm.max() / 2.\n",
    "    for i, j in itertools.product(range(cm.shape[0]), range(cm.shape[1])):\n",
    "        plt.text(j, i, cm[i, j],\n",
    "                 horizontalalignment=\"center\",\n",
    "                 color=\"white\" if cm[i, j] > thresh else \"black\")\n",
    "    plt.tight_layout()\n",
    "    plt.ylabel('True label')\n",
    "    plt.xlabel('Predicted label')"
   ]
  },
  {
   "cell_type": "code",
   "execution_count": 53,
   "metadata": {},
   "outputs": [
    {
     "data": {
      "image/png": "[encoded data removed]",
      "text/plain": [
       "<Figure size 432x288 with 2 Axes>"
      ]
     },
     "metadata": {
      "needs_background": "light"
     },
     "output_type": "display_data"
    }
   ],
   "source": [
    "# 计算混淆矩阵\n",
    "conf_mat=confusion_matrix(y_true,y_pred)\n",
    "# 画混淆矩阵\n",
    "plot_confusion_matrix(conf_mat,classes=[0,1])"
   ]
  },
  {
   "cell_type": "code",
   "execution_count": 54,
   "metadata": {},
   "outputs": [],
   "source": [
    "TP=conf_mat[0][0]\n",
    "FP=conf_mat[1][0]\n",
    "TN=conf_mat[1][1]\n",
    "FN=conf_mat[0][1]"
   ]
  },
  {
   "cell_type": "markdown",
   "metadata": {},
   "source": [
    "# 多分类"
   ]
  },
  {
   "cell_type": "markdown",
   "metadata": {},
   "source": [
    "F1_score中关于参数average的用法描述:\n",
    "+ 'micro':Calculate metrics globally by counting the total true positives, false negatives and false positives.\n",
    "+ 'micro':通过先计算总体的TP，FN和FP的数量，再计算F1\n",
    "+ 'macro':Calculate metrics for each label, and find their unweighted mean. This does not take label imbalance into account.\n",
    "+ 'macro':分别计算每个类别的F1，然后做平均（各类别F1的权重相同）"
   ]
  },
  {
   "cell_type": "code",
   "execution_count": 56,
   "metadata": {},
   "outputs": [
    {
     "name": "stdout",
     "output_type": "stream",
     "text": [
      "              precision    recall  f1-score   support\n",
      "\n",
      "           0      0.667     1.000     0.800         4\n",
      "           1      0.667     0.500     0.571         4\n",
      "           2      0.000     0.000     0.000         1\n",
      "\n",
      "    accuracy                          0.667         9\n",
      "   macro avg      0.444     0.500     0.457         9\n",
      "weighted avg      0.593     0.667     0.610         9\n",
      "\n"
     ]
    }
   ],
   "source": [
    "y_true = [0, 1, 2, 0, 1, 0, 1, 0, 1]\n",
    "y_pred = [0, 1, 1, 0, 0, 0, 1, 0, 0]\n",
    "print(classification_report(y_true,y_pred,digits=3))"
   ]
  },
  {
   "cell_type": "markdown",
   "metadata": {},
   "source": [
    "参考：\n",
    "+ [多分类的评价指标PRF（Macro-F1/MicroF1/weighted）详解] \n",
    "https://www.cnblogs.com/nana-zhang/p/11496496.html\n",
    "\n",
    "+ [sklearn中 F1-micro 与 F1-macro区别和计算原理]\n",
    "https://www.cnblogs.com/techengin/p/8962024.html"
   ]
  },
  {
   "cell_type": "markdown",
   "metadata": {},
   "source": [
    "## 神经网络，多分类"
   ]
  },
  {
   "cell_type": "markdown",
   "metadata": {},
   "source": [
    "## OneHot编码"
   ]
  },
  {
   "cell_type": "code",
   "execution_count": 57,
   "metadata": {},
   "outputs": [],
   "source": [
    "y_true = [0, 1, 2, 0, 1, 0, 1, 0, 1]\n",
    "y_pred = [0, 1, 1, 0, 0, 0, 1, 0, 0]"
   ]
  },
  {
   "cell_type": "code",
   "execution_count": 58,
   "metadata": {},
   "outputs": [],
   "source": [
    "from sklearn.preprocessing import LabelBinarizer, OneHotEncoder"
   ]
  },
  {
   "cell_type": "code",
   "execution_count": 59,
   "metadata": {},
   "outputs": [
    {
     "name": "stdout",
     "output_type": "stream",
     "text": [
      "[0 1 2]\n"
     ]
    }
   ],
   "source": [
    "lb = LabelBinarizer()\n",
    "lb.fit(y_true)\n",
    "print(lb.classes_)\n",
    "y_true = lb.transform(y_true)\n",
    "y_pred = lb.transform(y_pred)"
   ]
  },
  {
   "cell_type": "code",
   "execution_count": 60,
   "metadata": {},
   "outputs": [
    {
     "data": {
      "text/plain": [
       "array([[1, 0, 0],\n",
       "       [0, 1, 0],\n",
       "       [0, 0, 1],\n",
       "       [1, 0, 0],\n",
       "       [0, 1, 0],\n",
       "       [1, 0, 0],\n",
       "       [0, 1, 0],\n",
       "       [1, 0, 0],\n",
       "       [0, 1, 0]])"
      ]
     },
     "execution_count": 60,
     "metadata": {},
     "output_type": "execute_result"
    }
   ],
   "source": [
    "y_true"
   ]
  },
  {
   "cell_type": "code",
   "execution_count": 63,
   "metadata": {},
   "outputs": [
    {
     "data": {
      "text/plain": [
       "0.45714285714285713"
      ]
     },
     "execution_count": 63,
     "metadata": {},
     "output_type": "execute_result"
    }
   ],
   "source": [
    "f1_score(y_true, y_pred, average='macro')"
   ]
  },
  {
   "cell_type": "code",
   "execution_count": 64,
   "metadata": {},
   "outputs": [
    {
     "data": {
      "text/plain": [
       "0.6666666666666666"
      ]
     },
     "execution_count": 64,
     "metadata": {},
     "output_type": "execute_result"
    }
   ],
   "source": [
    "f1_score(y_true, y_pred, average='micro')"
   ]
  },
  {
   "cell_type": "markdown",
   "metadata": {},
   "source": [
    "# 多标签分类"
   ]
  },
  {
   "cell_type": "code",
   "execution_count": 65,
   "metadata": {},
   "outputs": [],
   "source": [
    "import tensorflow.keras.backend as K"
   ]
  },
  {
   "cell_type": "code",
   "execution_count": 66,
   "metadata": {},
   "outputs": [],
   "source": [
    "def micro_f1(y_true, y_pred):\n",
    "    \"\"\"\n",
    "    F1 metric.\n",
    "    \n",
    "    Computes the micro_f1 and macro_f1, \n",
    "    metrics for multi-label classification of\n",
    "    how many relevant items are selected.\n",
    "    \"\"\"\n",
    "    true_positives = K.sum(K.round(K.clip(y_true * y_pred, 0, 1)), axis=0)\n",
    "    predicted_positives = K.sum(K.round(K.clip(y_pred, 0, 1)), axis=0)\n",
    "    possible_positives = K.sum(K.round(K.clip(y_true, 0, 1)), axis=0)\n",
    "\n",
    "    \"\"\"\n",
    "    Micro_F1 metric.\n",
    "    \"\"\"\n",
    "    precision = K.sum(true_positives) / (K.sum(predicted_positives) + K.epsilon())\n",
    "    recall = K.sum(true_positives) / (K.sum(possible_positives) + K.epsilon())\n",
    "    micro_f1 = 2 * precision * recall / (precision + recall + K.epsilon())\n",
    "    return micro_f1\n",
    "\n",
    "\n",
    "def macro_f1(y_true, y_pred):\n",
    "    \"\"\"\n",
    "    F1 metric.\n",
    "\n",
    "    Computes the micro_f1 and macro_f1,\n",
    "    metrics for multi-label classification of\n",
    "    how many relevant items are selected.\n",
    "    \"\"\"\n",
    "    true_positives = K.sum(K.round(K.clip(y_true * y_pred, 0, 1)), axis=0)\n",
    "    predicted_positives = K.sum(K.round(K.clip(y_pred, 0, 1)), axis=0)\n",
    "    possible_positives = K.sum(K.round(K.clip(y_true, 0, 1)), axis=0)\n",
    "\n",
    "    \"\"\"\n",
    "    Macro_F1 metric.\n",
    "    \"\"\"\n",
    "    precision = true_positives / (predicted_positives + K.epsilon())\n",
    "    recall = true_positives / (possible_positives + K.epsilon())\n",
    "    macro_f1 = K.mean(2 * precision * recall / (precision + recall + K.epsilon()))\n",
    "\n",
    "    return macro_f1"
   ]
  },
  {
   "cell_type": "code",
   "execution_count": 67,
   "metadata": {},
   "outputs": [],
   "source": [
    "y_true=tf.constant([[1, 0, 1],\n",
    "                   [0, 1, 0],\n",
    "                   [0, 0, 1],\n",
    "                   [1, 0, 0],\n",
    "                   [0, 1, 0],\n",
    "                   [1, 0, 1],\n",
    "                   [0, 1, 0],\n",
    "                   [1, 0, 1],\n",
    "                   [0, 1, 0]], tf.float32)\n",
    "\n",
    "y_pred=tf.constant([[1, 0, 0],\n",
    "                   [1, 1, 0],\n",
    "                   [0, 0, 1],\n",
    "                   [1, 0, 0],\n",
    "                   [0, 1, 0],\n",
    "                   [1, 0, 0],\n",
    "                   [0, 1, 1],\n",
    "                   [1, 0, 0],\n",
    "                   [0, 1, 0]], tf.float32)\n",
    "\n",
    "y_prod=tf.constant([[0.6, 0.6, 0.3],\n",
    "                   [0, 0.8, 0.4],\n",
    "                   [0.2, 0.6, 0.2],\n",
    "                   [0.3, 0.5, 0.2],\n",
    "                   [0.3, 0.4, 0.3],\n",
    "                   [0.3, 0.4, 0.3],\n",
    "                   [0.2, 0.4, 0.4],\n",
    "                   [0.3, 0.4, 0.3],\n",
    "                   [0.3, 0.5, 0.2]], tf.float32)"
   ]
  },
  {
   "cell_type": "code",
   "execution_count": 68,
   "metadata": {},
   "outputs": [
    {
     "name": "stdout",
     "output_type": "stream",
     "text": [
      "tf.Tensor(0.7826087, shape=(), dtype=float32)\n",
      "tf.Tensor(0.24999996, shape=(), dtype=float32)\n"
     ]
    }
   ],
   "source": [
    "print(micro_f1(y_true, y_pred))\n",
    "print(micro_f1(y_true, y_prod))"
   ]
  },
  {
   "cell_type": "code",
   "execution_count": 69,
   "metadata": {},
   "outputs": [
    {
     "name": "stdout",
     "output_type": "stream",
     "text": [
      "tf.Tensor(0.7407407, shape=(), dtype=float32)\n",
      "tf.Tensor(0.22857137, shape=(), dtype=float32)\n"
     ]
    }
   ],
   "source": [
    "print(macro_f1(y_true, y_pred))\n",
    "print(macro_f1(y_true, y_prod))"
   ]
  },
  {
   "cell_type": "code",
   "execution_count": null,
   "metadata": {},
   "outputs": [],
   "source": []
  }
 ],
 "metadata": {
  "kernelspec": {
   "display_name": "Python 3",
   "language": "python",
   "name": "python3"
  },
  "language_info": {
   "codemirror_mode": {
    "name": "ipython",
    "version": 3
   },
   "file_extension": ".py",
   "mimetype": "text/x-python",
   "name": "python",
   "nbconvert_exporter": "python",
   "pygments_lexer": "ipython3",
   "version": "3.6.5"
  }
 },
 "nbformat": 4,
 "nbformat_minor": 2
}
