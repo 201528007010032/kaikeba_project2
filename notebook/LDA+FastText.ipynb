{
 "cells": [
  {
   "cell_type": "markdown",
   "metadata": {},
   "source": [
    "1、LDA\n",
    "2、keras实现FastText\n",
    "3、FastText调包"
   ]
  },
  {
   "cell_type": "code",
   "execution_count": 1,
   "metadata": {},
   "outputs": [],
   "source": [
    "import os\n",
    "import re\n",
    "import jieba\n",
    "import pandas as pd\n",
    "import numpy as np\n",
    "import tensorflow as tf"
   ]
  },
  {
   "cell_type": "code",
   "execution_count": 2,
   "metadata": {},
   "outputs": [
    {
     "data": {
      "text/plain": [
       "'2.0.0'"
      ]
     },
     "execution_count": 2,
     "metadata": {},
     "output_type": "execute_result"
    }
   ],
   "source": [
    "tf.__version__"
   ]
  },
  {
   "cell_type": "code",
   "execution_count": 3,
   "metadata": {},
   "outputs": [],
   "source": [
    "root = 'data/百度题库/高中_历史/origin'"
   ]
  },
  {
   "cell_type": "code",
   "execution_count": 9,
   "metadata": {},
   "outputs": [],
   "source": [
    "ancient_his = pd.read_csv(os.path.join(root, '古代史.csv'))\n",
    "contemporary_his = pd.read_csv(os.path.join(root, '现代史.csv'))\n",
    "modern_his = pd.read_csv(os.path.join(root, '近代史.csv'))"
   ]
  },
  {
   "cell_type": "code",
   "execution_count": 10,
   "metadata": {},
   "outputs": [
    {
     "data": {
      "text/html": [
       "<div>\n",
       "<style scoped>\n",
       "    .dataframe tbody tr th:only-of-type {\n",
       "        vertical-align: middle;\n",
       "    }\n",
       "\n",
       "    .dataframe tbody tr th {\n",
       "        vertical-align: top;\n",
       "    }\n",
       "\n",
       "    .dataframe thead th {\n",
       "        text-align: right;\n",
       "    }\n",
       "</style>\n",
       "<table border=\"1\" class=\"dataframe\">\n",
       "  <thead>\n",
       "    <tr style=\"text-align: right;\">\n",
       "      <th></th>\n",
       "      <th>web-scraper-order</th>\n",
       "      <th>web-scraper-start-url</th>\n",
       "      <th>item</th>\n",
       "    </tr>\n",
       "  </thead>\n",
       "  <tbody>\n",
       "    <tr>\n",
       "      <th>0</th>\n",
       "      <td>1566523436-2497</td>\n",
       "      <td>https://study.baidu.com/tiku</td>\n",
       "      <td>[题目]\\n据《左传》记载，春秋后期鲁国大夫季孙氏的家臣阳虎独掌权柄后，标榜要替鲁国国君整肃...</td>\n",
       "    </tr>\n",
       "    <tr>\n",
       "      <th>1</th>\n",
       "      <td>1566523436-2506</td>\n",
       "      <td>https://study.baidu.com/tiku</td>\n",
       "      <td>[题目]\\n秦始皇统一六国后创制了一套御玺。如任命国家官员，则封印“皇帝之玺”；若任命四夷的...</td>\n",
       "    </tr>\n",
       "    <tr>\n",
       "      <th>2</th>\n",
       "      <td>1566523436-2153</td>\n",
       "      <td>https://study.baidu.com/tiku</td>\n",
       "      <td>[题目]\\n北宋加强中央集权的主要措施有（   ）\\n①把主要将领的兵权收归中央②派文官担任...</td>\n",
       "    </tr>\n",
       "    <tr>\n",
       "      <th>3</th>\n",
       "      <td>1566523436-2328</td>\n",
       "      <td>https://study.baidu.com/tiku</td>\n",
       "      <td>[题目]\\n商朝人崇信各种鬼神，把占卜、祭祀作为与神灵沟通的手段，负责通神事务的是商王和巫师...</td>\n",
       "    </tr>\n",
       "    <tr>\n",
       "      <th>4</th>\n",
       "      <td>1566523436-1914</td>\n",
       "      <td>https://study.baidu.com/tiku</td>\n",
       "      <td>[题目]\\n公元963年，北宋政府在江淮地区设置了包括盐业管理，以及控制对茶叶销售的专卖等为...</td>\n",
       "    </tr>\n",
       "  </tbody>\n",
       "</table>\n",
       "</div>"
      ],
      "text/plain": [
       "  web-scraper-order         web-scraper-start-url  \\\n",
       "0   1566523436-2497  https://study.baidu.com/tiku   \n",
       "1   1566523436-2506  https://study.baidu.com/tiku   \n",
       "2   1566523436-2153  https://study.baidu.com/tiku   \n",
       "3   1566523436-2328  https://study.baidu.com/tiku   \n",
       "4   1566523436-1914  https://study.baidu.com/tiku   \n",
       "\n",
       "                                                item  \n",
       "0  [题目]\\n据《左传》记载，春秋后期鲁国大夫季孙氏的家臣阳虎独掌权柄后，标榜要替鲁国国君整肃...  \n",
       "1  [题目]\\n秦始皇统一六国后创制了一套御玺。如任命国家官员，则封印“皇帝之玺”；若任命四夷的...  \n",
       "2  [题目]\\n北宋加强中央集权的主要措施有（   ）\\n①把主要将领的兵权收归中央②派文官担任...  \n",
       "3  [题目]\\n商朝人崇信各种鬼神，把占卜、祭祀作为与神灵沟通的手段，负责通神事务的是商王和巫师...  \n",
       "4  [题目]\\n公元963年，北宋政府在江淮地区设置了包括盐业管理，以及控制对茶叶销售的专卖等为...  "
      ]
     },
     "execution_count": 10,
     "metadata": {},
     "output_type": "execute_result"
    }
   ],
   "source": [
    "ancient_his.head(5)"
   ]
  },
  {
   "cell_type": "code",
   "execution_count": 11,
   "metadata": {},
   "outputs": [],
   "source": [
    "ancient_his['label'] = '__label__古代史'\n",
    "contemporary_his['label'] = '__label__现代史'\n",
    "modern_his['label'] = '__label__近代史'"
   ]
  },
  {
   "cell_type": "code",
   "execution_count": 12,
   "metadata": {},
   "outputs": [
    {
     "data": {
      "text/html": [
       "<div>\n",
       "<style scoped>\n",
       "    .dataframe tbody tr th:only-of-type {\n",
       "        vertical-align: middle;\n",
       "    }\n",
       "\n",
       "    .dataframe tbody tr th {\n",
       "        vertical-align: top;\n",
       "    }\n",
       "\n",
       "    .dataframe thead th {\n",
       "        text-align: right;\n",
       "    }\n",
       "</style>\n",
       "<table border=\"1\" class=\"dataframe\">\n",
       "  <thead>\n",
       "    <tr style=\"text-align: right;\">\n",
       "      <th></th>\n",
       "      <th>web-scraper-order</th>\n",
       "      <th>web-scraper-start-url</th>\n",
       "      <th>item</th>\n",
       "      <th>label</th>\n",
       "    </tr>\n",
       "  </thead>\n",
       "  <tbody>\n",
       "    <tr>\n",
       "      <th>0</th>\n",
       "      <td>1566523436-2497</td>\n",
       "      <td>https://study.baidu.com/tiku</td>\n",
       "      <td>[题目]\\n据《左传》记载，春秋后期鲁国大夫季孙氏的家臣阳虎独掌权柄后，标榜要替鲁国国君整肃...</td>\n",
       "      <td>__label__古代史</td>\n",
       "    </tr>\n",
       "    <tr>\n",
       "      <th>1</th>\n",
       "      <td>1566523436-2506</td>\n",
       "      <td>https://study.baidu.com/tiku</td>\n",
       "      <td>[题目]\\n秦始皇统一六国后创制了一套御玺。如任命国家官员，则封印“皇帝之玺”；若任命四夷的...</td>\n",
       "      <td>__label__古代史</td>\n",
       "    </tr>\n",
       "    <tr>\n",
       "      <th>2</th>\n",
       "      <td>1566523436-2153</td>\n",
       "      <td>https://study.baidu.com/tiku</td>\n",
       "      <td>[题目]\\n北宋加强中央集权的主要措施有（   ）\\n①把主要将领的兵权收归中央②派文官担任...</td>\n",
       "      <td>__label__古代史</td>\n",
       "    </tr>\n",
       "    <tr>\n",
       "      <th>3</th>\n",
       "      <td>1566523436-2328</td>\n",
       "      <td>https://study.baidu.com/tiku</td>\n",
       "      <td>[题目]\\n商朝人崇信各种鬼神，把占卜、祭祀作为与神灵沟通的手段，负责通神事务的是商王和巫师...</td>\n",
       "      <td>__label__古代史</td>\n",
       "    </tr>\n",
       "    <tr>\n",
       "      <th>4</th>\n",
       "      <td>1566523436-1914</td>\n",
       "      <td>https://study.baidu.com/tiku</td>\n",
       "      <td>[题目]\\n公元963年，北宋政府在江淮地区设置了包括盐业管理，以及控制对茶叶销售的专卖等为...</td>\n",
       "      <td>__label__古代史</td>\n",
       "    </tr>\n",
       "  </tbody>\n",
       "</table>\n",
       "</div>"
      ],
      "text/plain": [
       "  web-scraper-order         web-scraper-start-url  \\\n",
       "0   1566523436-2497  https://study.baidu.com/tiku   \n",
       "1   1566523436-2506  https://study.baidu.com/tiku   \n",
       "2   1566523436-2153  https://study.baidu.com/tiku   \n",
       "3   1566523436-2328  https://study.baidu.com/tiku   \n",
       "4   1566523436-1914  https://study.baidu.com/tiku   \n",
       "\n",
       "                                                item         label  \n",
       "0  [题目]\\n据《左传》记载，春秋后期鲁国大夫季孙氏的家臣阳虎独掌权柄后，标榜要替鲁国国君整肃...  __label__古代史  \n",
       "1  [题目]\\n秦始皇统一六国后创制了一套御玺。如任命国家官员，则封印“皇帝之玺”；若任命四夷的...  __label__古代史  \n",
       "2  [题目]\\n北宋加强中央集权的主要措施有（   ）\\n①把主要将领的兵权收归中央②派文官担任...  __label__古代史  \n",
       "3  [题目]\\n商朝人崇信各种鬼神，把占卜、祭祀作为与神灵沟通的手段，负责通神事务的是商王和巫师...  __label__古代史  \n",
       "4  [题目]\\n公元963年，北宋政府在江淮地区设置了包括盐业管理，以及控制对茶叶销售的专卖等为...  __label__古代史  "
      ]
     },
     "execution_count": 12,
     "metadata": {},
     "output_type": "execute_result"
    }
   ],
   "source": [
    "ancient_his.head(5)"
   ]
  },
  {
   "cell_type": "code",
   "execution_count": 58,
   "metadata": {},
   "outputs": [],
   "source": [
    "stopwords_path = 'data/stopwords/哈工大停用词表.txt'"
   ]
  },
  {
   "cell_type": "code",
   "execution_count": 44,
   "metadata": {},
   "outputs": [],
   "source": [
    "def clean_sentence(sentence):\n",
    "    '''\n",
    "    特殊符号去除\n",
    "    :param sentence: 待处理的字符串\n",
    "    :return: 过滤特殊字符后的字符串\n",
    "    '''\n",
    "    sentence = re.sub(r'[\\s+\\-\\|\\!\\/\\[\\]\\{\\}_,.$%^*(+\\\"\\')]+|[:：+——()?【】“”！，。？、~@#￥%……&*（）]+|题目|答案|知识点|解析|A|B|C|D', \n",
    "                      '', sentence)\n",
    "    return jieba.cut(sentence, cut_all=False)"
   ]
  },
  {
   "cell_type": "code",
   "execution_count": 45,
   "metadata": {},
   "outputs": [],
   "source": [
    "def load_stop_words(stop_word_path):\n",
    "    '''\n",
    "    加载停用词\n",
    "    :param stop_word_path:停用词路径\n",
    "    :return: 停用词表 list\n",
    "    '''\n",
    "    # 打开文件\n",
    "    file = open(stop_word_path, 'r', encoding='utf-8')\n",
    "    # 读取所有行\n",
    "    stop_words = file.readlines()\n",
    "    # 去除每一个停用词前后 空格 换行符\n",
    "    stop_words = [stop_word.strip() for stop_word in stop_words]\n",
    "    return stop_words"
   ]
  },
  {
   "cell_type": "code",
   "execution_count": 46,
   "metadata": {},
   "outputs": [],
   "source": [
    "stopwords = load_stop_words(stopwords_path)\n",
    "def sentence_proc(sentence):\n",
    "    \"\"\"\n",
    "    预处理\n",
    "    \"\"\"\n",
    "    words = clean_sentence(sentence)\n",
    "    words = [word for word in words if word not in stopwords]\n",
    "    return ' '.join(words)"
   ]
  },
  {
   "cell_type": "code",
   "execution_count": 47,
   "metadata": {},
   "outputs": [
    {
     "name": "stdout",
     "output_type": "stream",
     "text": [
      "CPU times: user 11.1 s, sys: 82.9 ms, total: 11.2 s\n",
      "Wall time: 11.7 s\n"
     ]
    }
   ],
   "source": [
    "%%time\n",
    "ancient_his['item'] = ancient_his['item'].apply(sentence_proc)\n",
    "contemporary_his['item'] = contemporary_his['item'].apply(sentence_proc)\n",
    "modern_his['item'] = modern_his['item'].apply(sentence_proc)"
   ]
  },
  {
   "cell_type": "code",
   "execution_count": 48,
   "metadata": {},
   "outputs": [
    {
     "data": {
      "text/html": [
       "<div>\n",
       "<style scoped>\n",
       "    .dataframe tbody tr th:only-of-type {\n",
       "        vertical-align: middle;\n",
       "    }\n",
       "\n",
       "    .dataframe tbody tr th {\n",
       "        vertical-align: top;\n",
       "    }\n",
       "\n",
       "    .dataframe thead th {\n",
       "        text-align: right;\n",
       "    }\n",
       "</style>\n",
       "<table border=\"1\" class=\"dataframe\">\n",
       "  <thead>\n",
       "    <tr style=\"text-align: right;\">\n",
       "      <th></th>\n",
       "      <th>web-scraper-order</th>\n",
       "      <th>web-scraper-start-url</th>\n",
       "      <th>item</th>\n",
       "      <th>label</th>\n",
       "    </tr>\n",
       "  </thead>\n",
       "  <tbody>\n",
       "    <tr>\n",
       "      <th>0</th>\n",
       "      <td>1566523436-2497</td>\n",
       "      <td>https://study.baidu.com/tiku</td>\n",
       "      <td>左传 记载 春秋 后期 鲁国 大夫 季孙氏 家臣 阳虎 独掌 权柄 后 标榜 鲁国 国君 整...</td>\n",
       "      <td>__label__古代史</td>\n",
       "    </tr>\n",
       "    <tr>\n",
       "      <th>1</th>\n",
       "      <td>1566523436-2506</td>\n",
       "      <td>https://study.baidu.com/tiku</td>\n",
       "      <td>秦始皇 统六国 后 创制 套 御玺 命 国家 官员 封印 皇帝 玺命 四夷 官员 天子 玺 ...</td>\n",
       "      <td>__label__古代史</td>\n",
       "    </tr>\n",
       "    <tr>\n",
       "      <th>2</th>\n",
       "      <td>1566523436-2153</td>\n",
       "      <td>https://study.baidu.com/tiku</td>\n",
       "      <td>北宋 加强 中央集权 主 措施 主领 兵权 收 中央 派 文官 担方 长官 设置 通判 监督...</td>\n",
       "      <td>__label__古代史</td>\n",
       "    </tr>\n",
       "    <tr>\n",
       "      <th>3</th>\n",
       "      <td>1566523436-2328</td>\n",
       "      <td>https://study.baidu.com/tiku</td>\n",
       "      <td>商人 崇信 鬼神 占卜 祭祀 作 神灵 沟通 手段 负责 通神 事务 商王 巫师 出身 贵族...</td>\n",
       "      <td>__label__古代史</td>\n",
       "    </tr>\n",
       "    <tr>\n",
       "      <th>4</th>\n",
       "      <td>1566523436-1914</td>\n",
       "      <td>https://study.baidu.com/tiku</td>\n",
       "      <td>公元 963 年 北宋 政府 江淮 区 设置 包括 盐业 理 控制 茶叶 销售 专卖 主 职...</td>\n",
       "      <td>__label__古代史</td>\n",
       "    </tr>\n",
       "  </tbody>\n",
       "</table>\n",
       "</div>"
      ],
      "text/plain": [
       "  web-scraper-order         web-scraper-start-url  \\\n",
       "0   1566523436-2497  https://study.baidu.com/tiku   \n",
       "1   1566523436-2506  https://study.baidu.com/tiku   \n",
       "2   1566523436-2153  https://study.baidu.com/tiku   \n",
       "3   1566523436-2328  https://study.baidu.com/tiku   \n",
       "4   1566523436-1914  https://study.baidu.com/tiku   \n",
       "\n",
       "                                                item         label  \n",
       "0  左传 记载 春秋 后期 鲁国 大夫 季孙氏 家臣 阳虎 独掌 权柄 后 标榜 鲁国 国君 整...  __label__古代史  \n",
       "1  秦始皇 统六国 后 创制 套 御玺 命 国家 官员 封印 皇帝 玺命 四夷 官员 天子 玺 ...  __label__古代史  \n",
       "2  北宋 加强 中央集权 主 措施 主领 兵权 收 中央 派 文官 担方 长官 设置 通判 监督...  __label__古代史  \n",
       "3  商人 崇信 鬼神 占卜 祭祀 作 神灵 沟通 手段 负责 通神 事务 商王 巫师 出身 贵族...  __label__古代史  \n",
       "4  公元 963 年 北宋 政府 江淮 区 设置 包括 盐业 理 控制 茶叶 销售 专卖 主 职...  __label__古代史  "
      ]
     },
     "execution_count": 48,
     "metadata": {},
     "output_type": "execute_result"
    }
   ],
   "source": [
    "ancient_his.head(5)"
   ]
  },
  {
   "cell_type": "markdown",
   "metadata": {},
   "source": [
    "# 数据集合并"
   ]
  },
  {
   "cell_type": "code",
   "execution_count": 49,
   "metadata": {},
   "outputs": [],
   "source": [
    "dataset_df = pd.concat([ancient_his, contemporary_his, modern_his])"
   ]
  },
  {
   "cell_type": "markdown",
   "metadata": {},
   "source": [
    "# 1. LDA主题模型"
   ]
  },
  {
   "cell_type": "markdown",
   "metadata": {},
   "source": [
    "> LDA是一种文档主题生成模型，也称为一个三层贝叶斯概率模型，包含词、主题和文档三层结构。\n",
    "生成模型：我们认为一篇文章的每个词都是通过“以一定概率选择了某个主题，并从这个主题中以一定概率选择某个词语”这样一个过程得到。文档到主题服从多项式分布，主题到词服从多项式分布。"
   ]
  },
  {
   "cell_type": "markdown",
   "metadata": {},
   "source": [
    "> LDA是一种非监督机器学习技术，可以用来识别大规模文档集（document collection）或语料库（corpus）中潜藏的主题信息。\n",
    "* 采用了词袋的方法，把每一篇文档看做为一个词频向量；\n",
    "* 每一篇文档代表了一些主题所构成的一个概率分布，而每一个主题又代表了很多单词所构成的一个概率分布。"
   ]
  },
  {
   "cell_type": "code",
   "execution_count": 50,
   "metadata": {},
   "outputs": [],
   "source": [
    "common_texts = dataset_df['item'].apply(lambda x: x.split()).tolist()"
   ]
  },
  {
   "cell_type": "code",
   "execution_count": 51,
   "metadata": {},
   "outputs": [
    {
     "name": "stderr",
     "output_type": "stream",
     "text": [
      "W0226 23:03:07.609061 4653073856 ldamodel.py:934] too few updates, training might not converge; consider increasing the number of passes or iterations to improve accuracy\n"
     ]
    }
   ],
   "source": [
    "from gensim.corpora.dictionary import Dictionary\n",
    "from gensim.models import LdaModel\n",
    "\n",
    "dictionary = Dictionary(common_texts)\n",
    "\n",
    "# 把文本转成词袋形式\n",
    "corpus = [dictionary.doc2bow(text) for text in common_texts]\n",
    "\n",
    "lda = LdaModel(corpus, id2word=dictionary, num_topics=3)"
   ]
  },
  {
   "cell_type": "code",
   "execution_count": 52,
   "metadata": {},
   "outputs": [
    {
     "data": {
      "text/plain": [
       "'0.013*\"中国\" + 0.011*\"发展\" + 0.010*\"年\" + 0.010*\"材料\" + 0.008*\"纠错\" + 0.008*\"查看\" + 0.008*\"空间\" + 0.008*\"加入\" + 0.008*\"题型\" + 0.008*\"复制\" + 0.008*\"次数\" + 0.008*\"难度\" + 0.008*\"选题\" + 0.008*\"0\" + 0.008*\"单选题\" + 0.008*\"收藏\" + 0.008*\"篮\" + 0.007*\"不\" + 0.007*\"济\" + 0.007*\"般使\" + 0.007*\"项\" + 0.006*\"错误\" + 0.006*\"出现\" + 0.006*\"主义\" + 0.006*\"民族\" + 0.006*\"资\" + 0.006*\"中\" + 0.005*\"正确\" + 0.004*\"世界\" + 0.004*\"国家\" + 0.004*\"制度\" + 0.004*\"工业\" + 0.003*\"美国\" + 0.003*\"知识\" + 0.003*\"政治\" + 0.003*\"反映\" + 0.003*\"影响\" + 0.003*\"排\" + 0.003*\"世纪\" + 0.003*\"后\" + 0.003*\"符合\" + 0.003*\"考查\" + 0.003*\"世界市场\" + 0.003*\"近代\" + 0.003*\"时\" + 0.003*\"社会\" + 0.003*\"新\" + 0.003*\"说明\" + 0.003*\"政策\" + 0.003*\"工业革命\"'"
      ]
     },
     "execution_count": 52,
     "metadata": {},
     "output_type": "execute_result"
    }
   ],
   "source": [
    "lda.print_topic(0, topn=50)"
   ]
  },
  {
   "cell_type": "code",
   "execution_count": 53,
   "metadata": {},
   "outputs": [
    {
     "data": {
      "text/plain": [
       "'0.014*\"材料\" + 0.010*\"不\" + 0.008*\"篮\" + 0.008*\"收藏\" + 0.008*\"空间\" + 0.008*\"选题\" + 0.008*\"加入\" + 0.008*\"英国\" + 0.008*\"般使\" + 0.008*\"题型\" + 0.008*\"次数\" + 0.008*\"复制\" + 0.008*\"纠错\" + 0.007*\"难度\" + 0.007*\"查看\" + 0.007*\"单选题\" + 0.007*\"0\" + 0.007*\"思想\" + 0.006*\"中\" + 0.006*\"人\" + 0.006*\"项\" + 0.005*\"错误\" + 0.005*\"正确\" + 0.005*\"发展\" + 0.005*\"知识\" + 0.004*\"形成\" + 0.004*\"排\" + 0.004*\"符合\" + 0.004*\"考查\" + 0.004*\"议会\" + 0.004*\"中国\" + 0.004*\"题意\" + 0.004*\"体现\" + 0.003*\"时期\" + 0.003*\"法国\" + 0.003*\"反映\" + 0.003*\"世界\" + 0.003*\"确立\" + 0.003*\"社会\" + 0.003*\"结合\" + 0.003*\"政治\" + 0.003*\"国王\" + 0.003*\"学\" + 0.003*\"信息\" + 0.003*\"权力\" + 0.003*\"知\" + 0.003*\"主张\" + 0.003*\"关系\" + 0.003*\"民主\" + 0.002*\"国家\"'"
      ]
     },
     "execution_count": 53,
     "metadata": {},
     "output_type": "execute_result"
    }
   ],
   "source": [
    "lda.print_topic(1, topn=50)"
   ]
  },
  {
   "cell_type": "code",
   "execution_count": 54,
   "metadata": {},
   "outputs": [
    {
     "data": {
      "text/plain": [
       "'0.013*\"制度\" + 0.012*\"中国\" + 0.010*\"材料\" + 0.010*\"不\" + 0.008*\"难度\" + 0.008*\"0\" + 0.008*\"单选题\" + 0.008*\"加入\" + 0.008*\"次数\" + 0.008*\"篮\" + 0.008*\"收藏\" + 0.008*\"查看\" + 0.007*\"符合\" + 0.007*\"复制\" + 0.007*\"选题\" + 0.007*\"空间\" + 0.007*\"题型\" + 0.007*\"般使\" + 0.007*\"纠错\" + 0.007*\"正确\" + 0.007*\"题意\" + 0.006*\"政治\" + 0.005*\"发展\" + 0.005*\"考查\" + 0.005*\"项\" + 0.005*\"思想\" + 0.004*\"错误\" + 0.004*\"选项\" + 0.004*\"排\" + 0.004*\"知识\" + 0.004*\"皇帝\" + 0.003*\"中央\" + 0.003*\"中\" + 0.003*\"制\" + 0.003*\"济\" + 0.003*\"年\" + 0.003*\"时期\" + 0.003*\"出现\" + 0.003*\"体现\" + 0.003*\"反映\" + 0.003*\"学\" + 0.003*\"后\" + 0.003*\"知\" + 0.003*\"政策\" + 0.003*\"信息\" + 0.002*\"文化\" + 0.002*\"历史\" + 0.002*\"社会\" + 0.002*\"结合\" + 0.002*\"官制\"'"
      ]
     },
     "execution_count": 54,
     "metadata": {},
     "output_type": "execute_result"
    }
   ],
   "source": [
    "lda.print_topic(2, topn=50)"
   ]
  },
  {
   "cell_type": "code",
   "execution_count": 55,
   "metadata": {},
   "outputs": [
    {
     "data": {
      "text/plain": [
       "35751"
      ]
     },
     "execution_count": 55,
     "metadata": {},
     "output_type": "execute_result"
    }
   ],
   "source": [
    "len(dictionary.token2id)"
   ]
  },
  {
   "cell_type": "code",
   "execution_count": 56,
   "metadata": {},
   "outputs": [],
   "source": [
    "bow_sample = [(370, 1)]"
   ]
  },
  {
   "cell_type": "code",
   "execution_count": 57,
   "metadata": {},
   "outputs": [
    {
     "data": {
      "text/plain": [
       "[(0, 0.17218345), (1, 0.63808906), (2, 0.18972749)]"
      ]
     },
     "execution_count": 57,
     "metadata": {},
     "output_type": "execute_result"
    }
   ],
   "source": [
    "lda.get_document_topics(bow_sample)"
   ]
  },
  {
   "cell_type": "markdown",
   "metadata": {},
   "source": [
    "# 2. FastText分类"
   ]
  },
  {
   "cell_type": "code",
   "execution_count": 59,
   "metadata": {},
   "outputs": [],
   "source": [
    "max_features = 10000\n",
    "class_num = 3\n",
    "ngram_range = 1"
   ]
  },
  {
   "cell_type": "markdown",
   "metadata": {},
   "source": [
    "## 数据集"
   ]
  },
  {
   "cell_type": "code",
   "execution_count": 60,
   "metadata": {},
   "outputs": [
    {
     "data": {
      "text/html": [
       "<div>\n",
       "<style scoped>\n",
       "    .dataframe tbody tr th:only-of-type {\n",
       "        vertical-align: middle;\n",
       "    }\n",
       "\n",
       "    .dataframe tbody tr th {\n",
       "        vertical-align: top;\n",
       "    }\n",
       "\n",
       "    .dataframe thead th {\n",
       "        text-align: right;\n",
       "    }\n",
       "</style>\n",
       "<table border=\"1\" class=\"dataframe\">\n",
       "  <thead>\n",
       "    <tr style=\"text-align: right;\">\n",
       "      <th></th>\n",
       "      <th>web-scraper-order</th>\n",
       "      <th>web-scraper-start-url</th>\n",
       "      <th>item</th>\n",
       "      <th>label</th>\n",
       "    </tr>\n",
       "  </thead>\n",
       "  <tbody>\n",
       "    <tr>\n",
       "      <th>0</th>\n",
       "      <td>1566523436-2497</td>\n",
       "      <td>https://study.baidu.com/tiku</td>\n",
       "      <td>左传 记载 春秋 后期 鲁国 大夫 季孙氏 家臣 阳虎 独掌 权柄 后 标榜 鲁国 国君 整...</td>\n",
       "      <td>__label__古代史</td>\n",
       "    </tr>\n",
       "    <tr>\n",
       "      <th>1</th>\n",
       "      <td>1566523436-2506</td>\n",
       "      <td>https://study.baidu.com/tiku</td>\n",
       "      <td>秦始皇 统六国 后 创制 套 御玺 命 国家 官员 封印 皇帝 玺命 四夷 官员 天子 玺 ...</td>\n",
       "      <td>__label__古代史</td>\n",
       "    </tr>\n",
       "    <tr>\n",
       "      <th>2</th>\n",
       "      <td>1566523436-2153</td>\n",
       "      <td>https://study.baidu.com/tiku</td>\n",
       "      <td>北宋 加强 中央集权 主 措施 主领 兵权 收 中央 派 文官 担方 长官 设置 通判 监督...</td>\n",
       "      <td>__label__古代史</td>\n",
       "    </tr>\n",
       "    <tr>\n",
       "      <th>3</th>\n",
       "      <td>1566523436-2328</td>\n",
       "      <td>https://study.baidu.com/tiku</td>\n",
       "      <td>商人 崇信 鬼神 占卜 祭祀 作 神灵 沟通 手段 负责 通神 事务 商王 巫师 出身 贵族...</td>\n",
       "      <td>__label__古代史</td>\n",
       "    </tr>\n",
       "    <tr>\n",
       "      <th>4</th>\n",
       "      <td>1566523436-1914</td>\n",
       "      <td>https://study.baidu.com/tiku</td>\n",
       "      <td>公元 963 年 北宋 政府 江淮 区 设置 包括 盐业 理 控制 茶叶 销售 专卖 主 职...</td>\n",
       "      <td>__label__古代史</td>\n",
       "    </tr>\n",
       "  </tbody>\n",
       "</table>\n",
       "</div>"
      ],
      "text/plain": [
       "  web-scraper-order         web-scraper-start-url  \\\n",
       "0   1566523436-2497  https://study.baidu.com/tiku   \n",
       "1   1566523436-2506  https://study.baidu.com/tiku   \n",
       "2   1566523436-2153  https://study.baidu.com/tiku   \n",
       "3   1566523436-2328  https://study.baidu.com/tiku   \n",
       "4   1566523436-1914  https://study.baidu.com/tiku   \n",
       "\n",
       "                                                item         label  \n",
       "0  左传 记载 春秋 后期 鲁国 大夫 季孙氏 家臣 阳虎 独掌 权柄 后 标榜 鲁国 国君 整...  __label__古代史  \n",
       "1  秦始皇 统六国 后 创制 套 御玺 命 国家 官员 封印 皇帝 玺命 四夷 官员 天子 玺 ...  __label__古代史  \n",
       "2  北宋 加强 中央集权 主 措施 主领 兵权 收 中央 派 文官 担方 长官 设置 通判 监督...  __label__古代史  \n",
       "3  商人 崇信 鬼神 占卜 祭祀 作 神灵 沟通 手段 负责 通神 事务 商王 巫师 出身 贵族...  __label__古代史  \n",
       "4  公元 963 年 北宋 政府 江淮 区 设置 包括 盐业 理 控制 茶叶 销售 专卖 主 职...  __label__古代史  "
      ]
     },
     "execution_count": 60,
     "metadata": {},
     "output_type": "execute_result"
    }
   ],
   "source": [
    "dataset_df.head(5)"
   ]
  },
  {
   "cell_type": "code",
   "execution_count": 61,
   "metadata": {},
   "outputs": [],
   "source": [
    "from tensorflow.keras import preprocessing\n",
    "from tensorflow.keras.preprocessing import sequence\n",
    "from sklearn.preprocessing import OneHotEncoder, LabelBinarizer\n",
    "from tensorflow.keras import Input, Model\n",
    "from tensorflow.keras.layers import Embedding, GlobalAveragePooling1D, Dense\n",
    "from tensorflow.keras.callbacks import EarlyStopping\n",
    "from sklearn.model_selection import train_test_split"
   ]
  },
  {
   "cell_type": "code",
   "execution_count": 62,
   "metadata": {},
   "outputs": [],
   "source": [
    "from tensorflow.keras.preprocessing.text import Tokenizer"
   ]
  },
  {
   "cell_type": "code",
   "execution_count": 63,
   "metadata": {},
   "outputs": [],
   "source": [
    "corpus = dataset_df['item']"
   ]
  },
  {
   "cell_type": "code",
   "execution_count": 64,
   "metadata": {},
   "outputs": [],
   "source": [
    "text_preprocesser = Tokenizer(num_words=max_features, oov_token='<UNK>')"
   ]
  },
  {
   "cell_type": "code",
   "execution_count": 65,
   "metadata": {},
   "outputs": [],
   "source": [
    "text_preprocesser.fit_on_texts(corpus)"
   ]
  },
  {
   "cell_type": "code",
   "execution_count": 66,
   "metadata": {},
   "outputs": [
    {
     "data": {
      "text/plain": [
       "35750"
      ]
     },
     "execution_count": 66,
     "metadata": {},
     "output_type": "execute_result"
    }
   ],
   "source": [
    "len(text_preprocesser.word_index)"
   ]
  },
  {
   "cell_type": "code",
   "execution_count": 67,
   "metadata": {},
   "outputs": [
    {
     "data": {
      "text/plain": [
       "OrderedDict([('左传', 12),\n",
       "             ('记载', 193),\n",
       "             ('春秋', 60),\n",
       "             ('后期', 79),\n",
       "             ('鲁国', 24),\n",
       "             ('大夫', 44),\n",
       "             ('季孙氏', 3),\n",
       "             ('家臣', 6),\n",
       "             ('阳虎', 2),\n",
       "             ('独掌', 1),\n",
       "             ('权柄', 2),\n",
       "             ('后', 1567),\n",
       "             ('标榜', 4),\n",
       "             ('国君', 24),\n",
       "             ('整肃', 2),\n",
       "             ('跋扈', 5),\n",
       "             ('举', 29),\n",
       "             ('不知', 44),\n",
       "             ('礼士', 1),\n",
       "             ('赞成', 24),\n",
       "             ('反受', 1),\n",
       "             ('批评', 27),\n",
       "             ('挑战', 97),\n",
       "             ('宗法制度', 32),\n",
       "             ('损害', 19),\n",
       "             ('利益', 295),\n",
       "             ('击', 143),\n",
       "             ('天子', 132),\n",
       "             ('权威', 99),\n",
       "             ('不', 5279),\n",
       "             ('符合', 2542),\n",
       "             ('周礼', 28),\n",
       "             ('规定', 373),\n",
       "             ('题型', 4964),\n",
       "             ('单选题', 4850),\n",
       "             ('难度', 4994),\n",
       "             ('般使', 4491),\n",
       "             ('次数', 4973),\n",
       "             ('0', 4799),\n",
       "             ('纠错', 4976),\n",
       "             ('复制', 4972),\n",
       "             ('收藏', 4973),\n",
       "             ('空间', 5067),\n",
       "             ('加入', 5088),\n",
       "             ('选题', 4987),\n",
       "             ('篮', 4970),\n",
       "             ('查看', 4970),\n",
       "             ('身份', 48),\n",
       "             ('效忠', 4),\n",
       "             ('僭', 18),\n",
       "             ('越', 56),\n",
       "             ('受', 366),\n",
       "             ('违背', 75),\n",
       "             ('选择项', 48),\n",
       "             ('血缘', 69),\n",
       "             ('核心', 125),\n",
       "             ('项', 3926),\n",
       "             ('无关', 520),\n",
       "             ('排项', 813),\n",
       "             ('题意', 2056),\n",
       "             ('排', 2246),\n",
       "             ('材料', 7019),\n",
       "             ('事件', 193),\n",
       "             ('涉', 40),\n",
       "             ('国内', 206),\n",
       "             ('周天子', 56),\n",
       "             ('重', 1119),\n",
       "             ('农抑商', 1063),\n",
       "             ('政策', 2167),\n",
       "             ('郡县制', 1071),\n",
       "             ('夏商', 889),\n",
       "             ('两代', 892),\n",
       "             ('政治', 2709),\n",
       "             ('制度', 4904),\n",
       "             ('中央', 1357),\n",
       "             ('官制', 948),\n",
       "             ('三公九卿', 934),\n",
       "             ('制', 1329),\n",
       "             ('皇帝', 1500),\n",
       "             ('秦始皇', 306),\n",
       "             ('统六国', 7),\n",
       "             ('创制', 15),\n",
       "             ('套', 11),\n",
       "             ('御玺', 2),\n",
       "             ('命', 59),\n",
       "             ('国家', 2111),\n",
       "             ('官员', 255),\n",
       "             ('封印', 2),\n",
       "             ('玺命', 1),\n",
       "             ('四夷', 1),\n",
       "             ('玺', 3),\n",
       "             ('信玺', 1),\n",
       "             ('四夷兵', 1),\n",
       "             ('事宜', 2),\n",
       "             ('行玺', 1),\n",
       "             ('外巡', 1),\n",
       "             ('时身', 1),\n",
       "             ('携带', 10),\n",
       "             ('说明', 1455),\n",
       "             ('处高', 2),\n",
       "             ('无', 454),\n",
       "             ('上位', 16),\n",
       "             ('秦', 186),\n",
       "             ('内外', 30),\n",
       "             ('两', 307),\n",
       "             ('系统', 57),\n",
       "             ('处理', 118),\n",
       "             ('国事', 6),\n",
       "             ('实行', 869),\n",
       "             ('中央集权', 415),\n",
       "             ('体制', 403),\n",
       "             ('大大', 45),\n",
       "             ('提升', 69),\n",
       "             ('行政效率', 54),\n",
       "             ('题求', 30),\n",
       "             ('选择', 198),\n",
       "             ('否定', 232),\n",
       "             ('提', 264),\n",
       "             ('结合', 1535),\n",
       "             ('学', 1617),\n",
       "             ('知识', 2426),\n",
       "             ('知', 1525),\n",
       "             ('正确', 3484),\n",
       "             ('排信玺', 1),\n",
       "             ('行玺区', 1),\n",
       "             ('未涉', 138),\n",
       "             ('错误', 3741),\n",
       "             ('北宋', 139),\n",
       "             ('加强', 896),\n",
       "             ('主', 964),\n",
       "             ('措施', 265),\n",
       "             ('主领', 4),\n",
       "             ('兵权', 11),\n",
       "             ('收', 28),\n",
       "             ('派', 57),\n",
       "             ('文官', 27),\n",
       "             ('担方', 6),\n",
       "             ('长官', 53),\n",
       "             ('设置', 136),\n",
       "             ('通判', 33),\n",
       "             ('监督', 95),\n",
       "             ('方', 481),\n",
       "             ('掌控', 10),\n",
       "             ('赋税', 32),\n",
       "             ('题', 1250),\n",
       "             ('考查', 2271),\n",
       "             ('时', 1355),\n",
       "             ('方设', 2),\n",
       "             ('转运', 30),\n",
       "             ('使', 1325),\n",
       "             ('都', 1196),\n",
       "             ('组合', 138),\n",
       "             ('排重', 144),\n",
       "             ('选官', 469),\n",
       "             ('官', 459),\n",
       "             ('变化', 1160),\n",
       "             ('商人', 203),\n",
       "             ('崇信', 2),\n",
       "             ('鬼神', 18),\n",
       "             ('占卜', 11),\n",
       "             ('祭祀', 25),\n",
       "             ('作', 533),\n",
       "             ('神灵', 10),\n",
       "             ('沟通', 17),\n",
       "             ('手段', 118),\n",
       "             ('负责', 183),\n",
       "             ('通神', 1),\n",
       "             ('事务', 94),\n",
       "             ('商王', 23),\n",
       "             ('巫师', 2),\n",
       "             ('出身', 50),\n",
       "             ('贵族', 262),\n",
       "             ('商代', 17),\n",
       "             ('王人', 2),\n",
       "             ('神王', 2),\n",
       "             ('元首', 27),\n",
       "             ('群巫长', 2),\n",
       "             ('上述', 213),\n",
       "             ('最', 472),\n",
       "             ('主导', 177),\n",
       "             ('事', 114),\n",
       "             ('垄断', 179),\n",
       "             ('神权', 40),\n",
       "             ('强化', 215),\n",
       "             ('王权', 90),\n",
       "             ('祭神', 5),\n",
       "             ('生产力', 203),\n",
       "             ('落后', 124),\n",
       "             ('商', 38),\n",
       "             ('阶级', 169),\n",
       "             ('矛盾尖锐', 21),\n",
       "             ('反映', 1940),\n",
       "             ('王权神', 2),\n",
       "             ('权相', 2),\n",
       "             ('特点', 360),\n",
       "             ('通', 374),\n",
       "             ('实际上', 158),\n",
       "             ('统治', 822),\n",
       "             ('然', 304),\n",
       "             ('无法', 401),\n",
       "             ('体现', 1867),\n",
       "             ('知重', 32),\n",
       "             ('公元', 10),\n",
       "             ('963', 1),\n",
       "             ('年', 3622),\n",
       "             ('政府', 986),\n",
       "             ('江淮', 3),\n",
       "             ('区', 267),\n",
       "             ('包括', 175),\n",
       "             ('盐业', 4),\n",
       "             ('理', 582),\n",
       "             ('控制', 283),\n",
       "             ('茶叶', 59),\n",
       "             ('销售', 41),\n",
       "             ('专卖', 5),\n",
       "             ('职责', 48),\n",
       "             ('使职', 1),\n",
       "             ('965', 1),\n",
       "             ('年置', 1),\n",
       "             ('诸路', 2),\n",
       "             ('使后', 1),\n",
       "             ('逐渐', 393),\n",
       "             ('变方', 2),\n",
       "             ('行政长官', 14),\n",
       "             ('表明', 549),\n",
       "             ('宋方', 2),\n",
       "             ('日益', 208),\n",
       "             ('知州责', 1),\n",
       "             ('分权', 103),\n",
       "             ('矛盾', 312),\n",
       "             ('缓解', 36),\n",
       "             ('时位', 1),\n",
       "             ('举足轻重', 6),\n",
       "             ('中', 3227),\n",
       "             ('看出', 283),\n",
       "             ('不断加强', 39),\n",
       "             ('知州具', 2),\n",
       "             ('说法', 626),\n",
       "             ('错', 72),\n",
       "             ('没', 1441),\n",
       "             ('出', 737),\n",
       "             ('使位', 1),\n",
       "             ('云昔', 1),\n",
       "             ('周公', 9),\n",
       "             ('大公', 6),\n",
       "             ('股肱', 3),\n",
       "             ('周室', 5),\n",
       "             ('夹辅成', 1),\n",
       "             ('王成', 1),\n",
       "             ('王劳赐盟', 1),\n",
       "             ('曰', 88),\n",
       "             ('世世', 3),\n",
       "             ('子孙', 29),\n",
       "             ('无相害', 3),\n",
       "             ('载盟府', 1),\n",
       "             ('大师', 11),\n",
       "             ('职', 63),\n",
       "             ('建立', 1062),\n",
       "             ('绝', 100),\n",
       "             ('秩序', 163),\n",
       "             ('西周', 350),\n",
       "             ('中枢', 27),\n",
       "             ('机构', 311),\n",
       "             ('蛮夷', 3),\n",
       "             ('间', 319),\n",
       "             ('关系', 1086),\n",
       "             ('集体', 66),\n",
       "             ('基', 269),\n",
       "             ('方式', 350),\n",
       "             ('姓', 50),\n",
       "             ('异姓', 12),\n",
       "             ('诸侯', 241),\n",
       "             ('权利义务', 6),\n",
       "             ('差异', 78),\n",
       "             ('成王', 1),\n",
       "             ('劳赐盟', 1),\n",
       "             ('统治集团', 18),\n",
       "             ('内部', 94),\n",
       "             ('稳定', 213),\n",
       "             ('团结', 52),\n",
       "             ('级', 161),\n",
       "             ('周代', 10),\n",
       "             ('未', 306),\n",
       "             ('君主专制', 564),\n",
       "             ('相关', 314),\n",
       "             ('信息', 1605),\n",
       "             ('异性', 2),\n",
       "             ('研究性', 20),\n",
       "             ('学习', 233),\n",
       "             ('程中', 72),\n",
       "             ('搜集', 5),\n",
       "             ('下组', 3),\n",
       "             ('图片', 152),\n",
       "             ('判断', 214),\n",
       "             ('研究', 298),\n",
       "             ('主题', 132),\n",
       "             ('中国', 5744),\n",
       "             ('古代', 546),\n",
       "             ('皇权', 279),\n",
       "             ('上', 1411),\n",
       "             ('立宪', 23),\n",
       "             ('君主', 227),\n",
       "             ('位', 610),\n",
       "             ('尊贵', 6),\n",
       "             ('平民', 56),\n",
       "             ('领袖', 37),\n",
       "             ('平实', 4),\n",
       "             ('民主', 913),\n",
       "             ('中外', 81),\n",
       "             ('建筑', 54),\n",
       "             ('文化', 725),\n",
       "             ('官邸', 9),\n",
       "             ('特征', 163),\n",
       "             ('太殿', 6),\n",
       "             ('属', 646),\n",
       "             ('白金汉宫', 5),\n",
       "             ('唐街', 7),\n",
       "             ('10', 108),\n",
       "             ('号', 60),\n",
       "             ('英国', 1680),\n",
       "             ('再', 199),\n",
       "             ('根题', 110),\n",
       "             ('干', 310),\n",
       "             ('求', 385),\n",
       "             ('直接', 382),\n",
       "             ('两项', 200),\n",
       "             ('揭示', 99),\n",
       "             ('国王', 485),\n",
       "             ('表述', 487),\n",
       "             ('客观', 119),\n",
       "             ('三幅', 16),\n",
       "             ('图拍', 3),\n",
       "             ('总体', 52),\n",
       "             ('选', 899),\n",
       "             ('明清', 541),\n",
       "             ('议会', 680),\n",
       "             ('权力', 943),\n",
       "             ('确立', 865),\n",
       "             ('责', 274),\n",
       "             ('内阁制', 272),\n",
       "             ('形成', 1394),\n",
       "             ('国会', 333),\n",
       "             ('殊死搏斗', 185),\n",
       "             ('责制', 285),\n",
       "             ('内阁', 692),\n",
       "             ('海峡两岸', 410),\n",
       "             ('发展', 5090),\n",
       "             ('古人', 10),\n",
       "             ('短期', 8),\n",
       "             ('亡主原', 1),\n",
       "             ('分析', 580),\n",
       "             ('准确', 312),\n",
       "             ('废', 222),\n",
       "             ('先王', 4),\n",
       "             ('道', 158),\n",
       "             ('燔', 1),\n",
       "             ('百家', 9),\n",
       "             ('言愚', 1),\n",
       "             ('黔首', 1),\n",
       "             ('四维', 1),\n",
       "             ('礼义廉耻', 1),\n",
       "             ('不张', 1),\n",
       "             ('万民', 6),\n",
       "             ('叛', 1),\n",
       "             ('举措', 48),\n",
       "             ('暴众刑', 1),\n",
       "             ('太极', 1),\n",
       "             ('殄灭', 3),\n",
       "             ('降辱亡', 1),\n",
       "             ('六国后', 6),\n",
       "             ('分析题', 13),\n",
       "             ('干求', 10),\n",
       "             ('接近', 20),\n",
       "             ('事实', 50),\n",
       "             ('亡原', 1),\n",
       "             ('认', 352),\n",
       "             ('推行', 244),\n",
       "             ('儒家思想', 202),\n",
       "             ('教化', 56),\n",
       "             ('导致', 410),\n",
       "             ('灭亡', 49),\n",
       "             ('意思', 123),\n",
       "             ('暴政', 18),\n",
       "             ('亡项', 1),\n",
       "             ('认六', 1),\n",
       "             ('王后', 2),\n",
       "             ('灭', 17),\n",
       "             ('联系', 241),\n",
       "             ('史实', 724),\n",
       "             ('秦亡', 12),\n",
       "             ('原主', 9),\n",
       "             ('汉书', 20),\n",
       "             ('武帝纪', 1),\n",
       "             ('春', 1),\n",
       "             ('正月', 10),\n",
       "             ('诏', 26),\n",
       "             ('梁王', 1),\n",
       "             ('城阳', 1),\n",
       "             ('王亲', 1),\n",
       "             ('慈生', 1),\n",
       "             ('愿邑分', 1),\n",
       "             ('弟许', 1),\n",
       "             ('诸侯王', 26),\n",
       "             ('子弟', 77),\n",
       "             ('邑', 24),\n",
       "             ('朕', 27),\n",
       "             ('亲览', 1),\n",
       "             ('列位', 7),\n",
       "             ('藩国', 2),\n",
       "             ('始分', 2),\n",
       "             ('侯时', 1),\n",
       "             ('最主', 25),\n",
       "             ('影响', 1397),\n",
       "             ('推动', 603),\n",
       "             ('封建', 434),\n",
       "             ('然济', 330),\n",
       "             ('迅速', 273),\n",
       "             ('解决', 338),\n",
       "             ('方间', 8),\n",
       "             ('促成', 70),\n",
       "             ('成', 705),\n",
       "             ('思想', 2108),\n",
       "             ('维护', 372),\n",
       "             ('统', 392),\n",
       "             ('根', 900),\n",
       "             ('关键', 212),\n",
       "             ('词语', 1),\n",
       "             ('分弟', 1),\n",
       "             ('侯知', 1),\n",
       "             ('王国', 46),\n",
       "             ('越分', 2),\n",
       "             ('小', 113),\n",
       "             ('使方', 6),\n",
       "             ('无力', 23),\n",
       "             ('抗', 37),\n",
       "             ('推恩', 40),\n",
       "             ('令', 49),\n",
       "             ('令使', 2),\n",
       "             ('汉武帝', 152),\n",
       "             ('令时', 1),\n",
       "             ('应', 488),\n",
       "             ('不济', 20),\n",
       "             ('角度', 153),\n",
       "             ('思考', 53),\n",
       "             ('不符', 604),\n",
       "             ('根上', 43),\n",
       "             ('接受', 148),\n",
       "             ('董仲舒', 310),\n",
       "             ('推崇', 55),\n",
       "             ('儒学', 577),\n",
       "             ('正统思想', 28),\n",
       "             ('高度', 73),\n",
       "             ('服务', 90),\n",
       "             ('排选重', 54),\n",
       "             ('元代', 63),\n",
       "             ('行省', 149),\n",
       "             ('无视', 2),\n",
       "             ('历', 64),\n",
       "             ('划界', 5),\n",
       "             ('密切相关', 21),\n",
       "             ('条', 47),\n",
       "             ('最重', 40),\n",
       "             ('山川', 11),\n",
       "             ('界', 35),\n",
       "             ('秦岭', 5),\n",
       "             ('淮河', 3),\n",
       "             ('南岭', 3),\n",
       "             ('太行山', 4),\n",
       "             ('存', 312),\n",
       "             ('陕西', 17),\n",
       "             ('汉中', 7),\n",
       "             ('盆', 2),\n",
       "             ('江西', 7),\n",
       "             ('跨', 4),\n",
       "             ('广东', 58),\n",
       "             ('江浙', 15),\n",
       "             ('江南', 46),\n",
       "             ('平原', 7),\n",
       "             ('逶迤', 2),\n",
       "             ('直', 91),\n",
       "             ('福建', 38),\n",
       "             ('山', 5),\n",
       "             ('划分', 41),\n",
       "             ('主意', 7),\n",
       "             ('图便', 1),\n",
       "             ('民族', 1771),\n",
       "             ('分化', 30),\n",
       "             ('汉蒙', 1),\n",
       "             ('二元', 17),\n",
       "             ('防止出现', 2),\n",
       "             ('方割', 22),\n",
       "             ('元', 110),\n",
       "             ('制根', 6),\n",
       "             ('破', 134),\n",
       "             ('原先', 18),\n",
       "             ('形变', 1),\n",
       "             ('行政区划', 18),\n",
       "             ('原目通', 1),\n",
       "             ('犬牙交错', 10),\n",
       "             ('原利理', 1),\n",
       "             ('区划', 4),\n",
       "             ('势力', 174),\n",
       "             ('巩固', 187),\n",
       "             ('项符合', 271),\n",
       "             ('项作', 1),\n",
       "             ('非', 264),\n",
       "             ('目排', 21),\n",
       "             ('均', 358),\n",
       "             ('意图', 41),\n",
       "             ('分封制', 527),\n",
       "             ('封', 45),\n",
       "             ('诸侯国', 77),\n",
       "             ('必须', 228),\n",
       "             ('服', 40),\n",
       "             ('命令', 44),\n",
       "             ('义务', 29),\n",
       "             ('镇守', 3),\n",
       "             ('疆土', 5),\n",
       "             ('作战', 32),\n",
       "             ('交纳', 7),\n",
       "             ('贡赋', 8),\n",
       "             ('觐', 4),\n",
       "             ('述职', 11),\n",
       "             ('题主', 1095),\n",
       "             ('学生', 981),\n",
       "             ('运学', 338),\n",
       "             ('解决问题', 411),\n",
       "             ('力', 850),\n",
       "             ('承担义务', 3),\n",
       "             ('选项', 1401),\n",
       "             ('全面', 209),\n",
       "             ('公元前', 81),\n",
       "             ('127', 2),\n",
       "             ('年汉', 2),\n",
       "             ('嫡长子', 107),\n",
       "             ('继承', 241),\n",
       "             ('王位', 71),\n",
       "             ('外', 399),\n",
       "             ('诸子都', 2),\n",
       "             ('范围', 146),\n",
       "             ('内', 206),\n",
       "             ('分封', 166),\n",
       "             ('侯国', 11),\n",
       "             ('意', 127),\n",
       "             ('恢复', 267),\n",
       "             ('矛盾激化', 14),\n",
       "             ('进步', 431),\n",
       "             ('增强', 131),\n",
       "             ('方封国', 2),\n",
       "             ('实力', 122),\n",
       "             ('做法', 118),\n",
       "             ('时期', 1988),\n",
       "             ('缓方', 1),\n",
       "             ('反叛', 8),\n",
       "             ('削弱', 150),\n",
       "             ('梁启超', 55),\n",
       "             ('认汉', 2),\n",
       "             ('发生', 430),\n",
       "             ('场', 61),\n",
       "             ('意义', 195),\n",
       "             ('革命', 995),\n",
       "             ('三代', 15),\n",
       "             ('政治局面', 5),\n",
       "             ('指', 423),\n",
       "             ('郡', 129),\n",
       "             ('国行制', 28),\n",
       "             ('刺史', 57),\n",
       "             ('察举', 98),\n",
       "             ('选拔', 88),\n",
       "             ('官吏', 96),\n",
       "             ('理解', 393),\n",
       "             ('题干', 441),\n",
       "             ('夏商周', 8),\n",
       "             ('贵族政治', 39),\n",
       "             ('世袭制', 44),\n",
       "             ('汉初方', 1),\n",
       "             ('行政', 248),\n",
       "             ('汉代', 195),\n",
       "             ('监察', 266),\n",
       "             ('演变', 108),\n",
       "             ('三项', 306),\n",
       "             ('没破', 3),\n",
       "             ('制选官', 4),\n",
       "             ('重大', 197),\n",
       "             ('革新', 29),\n",
       "             ('昔武', 4),\n",
       "             ('王克商', 7),\n",
       "             ('光', 14),\n",
       "             ('天下', 328),\n",
       "             ('兄弟', 35),\n",
       "             ('国', 590),\n",
       "             ('十五', 7),\n",
       "             ('人', 1459),\n",
       "             ('姬姓国', 4),\n",
       "             ('四十', 3),\n",
       "             ('皆', 193),\n",
       "             ('举亲', 1),\n",
       "             ('描述', 166),\n",
       "             ('主体', 78),\n",
       "             ('王族', 15),\n",
       "             ('功臣', 35),\n",
       "             ('姻亲', 7),\n",
       "             ('先代', 14),\n",
       "             ('解读', 611),\n",
       "             ('人够', 3),\n",
       "             ('主受', 6),\n",
       "             ('封象', 3),\n",
       "             ('说', 711),\n",
       "             ('王室贵族', 5),\n",
       "             ('象', 34),\n",
       "             ('占', 222),\n",
       "             ('位排', 14),\n",
       "             ('战国时期', 59),\n",
       "             ('禄秩', 3),\n",
       "             ('秩名', 1),\n",
       "             ('俸禄', 6),\n",
       "             ('额度', 2),\n",
       "             ('秦国', 34),\n",
       "             ('燕国', 4),\n",
       "             ('官阶', 2),\n",
       "             ('出现', 2379),\n",
       "             ('三百', 23),\n",
       "             ('石上', 1),\n",
       "             ('五十', 7),\n",
       "             ('石官', 1),\n",
       "             ('千石令', 1),\n",
       "             ('秦汉', 51),\n",
       "             ('附丽', 2),\n",
       "             ('职位', 18),\n",
       "             ('标志', 301),\n",
       "             ('高低', 13),\n",
       "             ('两千', 5),\n",
       "             ('石', 17),\n",
       "             ('少府', 11),\n",
       "             ('太常', 5),\n",
       "             ('永乐', 9),\n",
       "             ('官上', 1),\n",
       "             ('现象', 549),\n",
       "             ('没落', 13),\n",
       "             ('吏治', 18),\n",
       "             ('战国', 27),\n",
       "             ('考核', 10),\n",
       "             ('布衣', 4),\n",
       "             ('相局', 1),\n",
       "             ('必然结果', 7),\n",
       "             ('官僚政治', 48),\n",
       "             ('马克思', 112),\n",
       "             ('世界', 1848),\n",
       "             ('文明史', 21),\n",
       "             ('中说', 66),\n",
       "             ('唐宋', 47),\n",
       "             ('称', 181),\n",
       "             ('君主制', 35),\n",
       "             ('中央政府', 56),\n",
       "             ('首脑', 13),\n",
       "             ('宰相', 326),\n",
       "             ('很大', 64),\n",
       "             ('讨军国', 2),\n",
       "             ('人事', 15),\n",
       "             ('免', 44),\n",
       "             ('甚', 49),\n",
       "             ('皇位', 27),\n",
       "             ('问题', 790),\n",
       "             ('做出', 60),\n",
       "             ('决定', 189),\n",
       "             ('最虚君', 1),\n",
       "             ('实相', 2),\n",
       "             ('君主立宪制', 256),\n",
       "             ('实际', 120),\n",
       "             ('决策', 115),\n",
       "             ('相权', 110),\n",
       "             ('尤', 41),\n",
       "             ('突出', 146),\n",
       "             ('缺', 3),\n",
       "             ('知虚君', 1),\n",
       "             ('资', 1905),\n",
       "             ('主义', 2177),\n",
       "             ('专制制度', 40),\n",
       "             ('下', 574),\n",
       "             ('膨胀', 33),\n",
       "             ('只', 555),\n",
       "             ('主旨', 278),\n",
       "             ('网友', 6),\n",
       "             ('发表', 167),\n",
       "             ('帖子', 1),\n",
       "             ('讨', 24),\n",
       "             ('科举制', 159),\n",
       "             ('时说', 52),\n",
       "             ('科举', 50),\n",
       "             ('兴世始', 2),\n",
       "             ('八股', 21),\n",
       "             ('试', 5),\n",
       "             ('学子', 5),\n",
       "             ('彻夜', 1),\n",
       "             ('秉', 1),\n",
       "             ('读然', 1),\n",
       "             ('追求', 154),\n",
       "             ('功禄令', 1),\n",
       "             ('神', 28),\n",
       "             ('麻木', 2),\n",
       "             ('岂真', 1),\n",
       "             ('学识', 3),\n",
       "             ('耶帖', 1),\n",
       "             ('最恰', 4),\n",
       "             ('评价', 270),\n",
       "             ('完全正确', 4),\n",
       "             ('仅', 51),\n",
       "             ('功禄', 1),\n",
       "             ('片面', 57),\n",
       "             ('关', 280),\n",
       "             ('取士', 28),\n",
       "             ('产生', 817),\n",
       "             ('时间', 625),\n",
       "             ('隋唐', 110),\n",
       "             ('历史', 1178),\n",
       "             ('发挥', 88),\n",
       "             ('积极', 150),\n",
       "             ('作题', 3),\n",
       "             ('干中', 73),\n",
       "             ('题干关', 1),\n",
       "             ('不够', 58),\n",
       "             ('下图', 157),\n",
       "             ('两位', 11),\n",
       "             ('思想家', 230),\n",
       "             ('持', 27),\n",
       "             ('道德观', 3),\n",
       "             ('价值观', 31),\n",
       "             ('完全', 241),\n",
       "             ('相反', 73),\n",
       "             ('统治阶级', 40),\n",
       "             ('治国', 68),\n",
       "             ('现实', 126),\n",
       "             ('需都', 2),\n",
       "             ('强调', 609),\n",
       "             ('修养', 31),\n",
       "             ('重性', 42),\n",
       "             ('考察', 208),\n",
       "             ('获取', 126),\n",
       "             ('苏格拉底', 85),\n",
       "             ('话知', 2),\n",
       "             ('美德', 42),\n",
       "             ('孔子', 536),\n",
       "             ('言知', 2),\n",
       "             ('主张', 911),\n",
       "             ('项属', 38),\n",
       "             ('二共点', 4),\n",
       "             ('项中', 86),\n",
       "             ('需', 289),\n",
       "             ('没成', 4),\n",
       "             ('文艺', 488),\n",
       "             ('春天', 577),\n",
       "             ('春秋战国', 538),\n",
       "             ('乐舞', 241),\n",
       "             ('百家争鸣', 294),\n",
       "             ('史载', 8),\n",
       "             ('周文王', 3),\n",
       "             ('孝友', 4),\n",
       "             ('二', 226),\n",
       "             ('虢', 2),\n",
       "             ('文王', 6),\n",
       "             ('辈惠', 2),\n",
       "             ('慈二', 3),\n",
       "             ('蔡文', 2),\n",
       "             ('王子', 10),\n",
       "             ('辈刑', 1),\n",
       "             ('大', 514),\n",
       "             ('姒', 2),\n",
       "             ('诸弟', 2),\n",
       "             ('位询', 1),\n",
       "             ('八虞', 2),\n",
       "             ('父辈', 2),\n",
       "             ('咨二虢度', 1),\n",
       "             ('闳', 2),\n",
       "             ('夭谋', 1),\n",
       "             ('南宫', 1),\n",
       "             ('诹', 1),\n",
       "             ('蔡原', 1),\n",
       "             ('讨辛尹', 1),\n",
       "             ('重周', 2),\n",
       "             ('邵毕荣', 2),\n",
       "             ('四家', 2),\n",
       "             ('文', 34),\n",
       "             ('辈', 3),\n",
       "             ('血亲', 4),\n",
       "             ('主干', 46),\n",
       "             ('制成', 5),\n",
       "             ('宗', 334),\n",
       "             ('法制', 428),\n",
       "             ('核心内容', 14),\n",
       "             ('早期', 234),\n",
       "             ('分散', 32),\n",
       "             ('微弱', 13),\n",
       "             ('维系', 33),\n",
       "             ('辈询', 1),\n",
       "             ('看', 244),\n",
       "             ('制宗', 4),\n",
       "             ('史记', 31),\n",
       "             ('商君', 2),\n",
       "             ('传筑冀', 1),\n",
       "             ('阙', 2),\n",
       "             ('宫庭', 1),\n",
       "             ('咸阳', 5),\n",
       "             ('秦雍徙', 1),\n",
       "             ('集小', 1),\n",
       "             ('乡', 19),\n",
       "             ('聚县', 1),\n",
       "             ('置', 40),\n",
       "             ('令丞凡', 1),\n",
       "             ('三十', 13),\n",
       "             ('县', 36),\n",
       "             ('秦设', 4),\n",
       "             ('制针', 1),\n",
       "             ('扩大', 280),\n",
       "             ('疆域', 28),\n",
       "             ('效辖', 2),\n",
       "             ('战国时代', 4),\n",
       "             ('已存', 2),\n",
       "             ('建都', 1),\n",
       "             ('强大', 75),\n",
       "             ('秦王', 14),\n",
       "             ('定都', 15),\n",
       "             ('掌握', 216),\n",
       "             ('回答', 128),\n",
       "             ('注意', 104),\n",
       "             ('出处', 3),\n",
       "             ('传商君', 1),\n",
       "             ('商鞅', 31),\n",
       "             ('时秦', 1),\n",
       "             ('还', 462),\n",
       "             ('实现', 466),\n",
       "             ('统只', 2),\n",
       "             ('状况', 141),\n",
       "             ('找', 51),\n",
       "             ('例证', 5),\n",
       "             ('唐时', 8),\n",
       "             ('刘晏', 4),\n",
       "             ('长期', 135),\n",
       "             ('掌', 49),\n",
       "             ('财政', 89),\n",
       "             ('大权', 53),\n",
       "             ('廉洁', 8),\n",
       "             ('称工', 1),\n",
       "             ('谋国', 2),\n",
       "             ('拙谋', 2),\n",
       "             ('身代', 2),\n",
       "             ('良相', 2),\n",
       "             ('供职', 8),\n",
       "             ('部门', 61),\n",
       "             ('尚书省', 61),\n",
       "             ('中书省', 141),\n",
       "             ('门下省', 68),\n",
       "             ('直隶省', 2),\n",
       "             ('提唐', 1),\n",
       "             ('工', 3),\n",
       "             ('知唐', 8),\n",
       "             ('下辖', 1),\n",
       "             ('六部', 192),\n",
       "             ('户部', 15),\n",
       "             ('草', 150),\n",
       "             ('诏令', 29),\n",
       "             ('审核', 11),\n",
       "             ('排唐', 3),\n",
       "             ('船桨', 1),\n",
       "             ('翻', 2),\n",
       "             ('万顷', 1),\n",
       "             ('波涛', 1),\n",
       "             ('支鞭', 1),\n",
       "             ('高扬', 1),\n",
       "             ('走进', 3),\n",
       "             ('金戈', 1),\n",
       "             ('沙场', 1),\n",
       "             ('空荡荡', 1),\n",
       "             ('舞台', 57),\n",
       "             ('穷', 7),\n",
       "             ('十八相送', 1),\n",
       "             ('圆场', 1),\n",
       "             ('趟马', 1),\n",
       "             ('人行', 12),\n",
       "             ('千里路', 1),\n",
       "             ('马', 15),\n",
       "             ('万重山', 1),\n",
       "             ('表现形式', 11),\n",
       "             ('小说', 46),\n",
       "             ('浪漫', 11),\n",
       "             ('风格', 65),\n",
       "             ('戏曲', 13),\n",
       "             ('艺术', 91),\n",
       "             ('虚拟化', 1),\n",
       "             ('说书', 5),\n",
       "             ('人性', 58),\n",
       "             ('夸张', 23),\n",
       "             ('绘画', 49),\n",
       "             ('意象', 1),\n",
       "             ('化', 88),\n",
       "             ('属人', 1),\n",
       "             ('情感', 33),\n",
       "             ('舞台剧', 1),\n",
       "             ('昆曲', 28),\n",
       "             ('京剧', 83),\n",
       "             ('伤寒', 131),\n",
       "             ('杂病', 131),\n",
       "             ('纲目', 133),\n",
       "             ('宋词', 145),\n",
       "             ('元曲', 150),\n",
       "             ('家', 123),\n",
       "             ('国体', 21),\n",
       "             ('社会', 1704),\n",
       "             ('忠孝', 19),\n",
       "             ('观念', 291),\n",
       "             ('源远流长', 7),\n",
       "             ('源头', 15),\n",
       "             ('父系', 9),\n",
       "             ('血缘关系', 60),\n",
       "             ('亲疏', 17),\n",
       "             ('宗法', 91),\n",
       "             ('利', 450),\n",
       "             ('凝聚', 7),\n",
       "             ('宗族', 43),\n",
       "             ('防止', 86),\n",
       "             ('纷争', 13),\n",
       "             ('纽带', 22),\n",
       "             ('密切', 28),\n",
       "             ('始项', 1),\n",
       "             ('古老', 19),\n",
       "             ('源', 119),\n",
       "             ('新', 1229),\n",
       "             ('兼', 58),\n",
       "             ('领土', 45),\n",
       "             ('不再', 81),\n",
       "             ('进行', 702),\n",
       "             ('郡县', 74),\n",
       "             ('世袭', 72),\n",
       "             ('已', 608),\n",
       "             ('广泛', 107),\n",
       "             ('秦统', 13),\n",
       "             ('全国', 236),\n",
       "             ('趋势', 423),\n",
       "             ('大项', 9),\n",
       "             ('历代', 30),\n",
       "             ('孝', 15),\n",
       "             ('理念', 99),\n",
       "             ('方面', 447),\n",
       "             ('更', 306),\n",
       "             ('早', 37),\n",
       "             ('应宗', 1),\n",
       "             ('作国', 2),\n",
       "             ('政权', 266),\n",
       "             ('组织', 431),\n",
       "             ('形式', 209),\n",
       "             ('钱穆', 26),\n",
       "             ('国史大纲', 4),\n",
       "             ('讲', 85),\n",
       "             ('写道', 100),\n",
       "             ('遂', 38),\n",
       "             ('军功', 37),\n",
       "             ('封侯', 10),\n",
       "             ('拜相', 2),\n",
       "             ('成例', 2),\n",
       "             ('变相', 3),\n",
       "             ('擅权', 3),\n",
       "             ('终告', 2),\n",
       "             ('歇', 2),\n",
       "             ('入仕', 26),\n",
       "             ('官遂', 2),\n",
       "             ('公开', 39),\n",
       "             ('标准', 144),\n",
       "             ('王室', 76),\n",
       "             ('逐步', 328),\n",
       "             ('分', 207),\n",
       "             ('民众', 190),\n",
       "             ('解放', 80),\n",
       "             ('爵制', 10),\n",
       "             ('制世卿', 2),\n",
       "             ('世禄制', 10),\n",
       "             ('根学', 210),\n",
       "             ('世卿', 16),\n",
       "             ('官职', 50),\n",
       "             ('限定', 15),\n",
       "             ('制才', 2),\n",
       "             ('品德', 18),\n",
       "             ('推荐', 6),\n",
       "             ('人才', 120),\n",
       "             ('相', 427),\n",
       "             ('开放', 264),\n",
       "             ('求然', 1),\n",
       "             ('上晚', 1),\n",
       "             ('制项', 13),\n",
       "             ('明代', 129),\n",
       "             ('清代', 92),\n",
       "             ('军机处', 224),\n",
       "             ('共处', 303),\n",
       "             ('统领', 10),\n",
       "             ('政务', 49),\n",
       "             ('参', 78),\n",
       "             ('廷', 38),\n",
       "             ('日常事务', 4),\n",
       "             ('参机', 5),\n",
       "             ('决策权', 40),\n",
       "             ('军政', 36),\n",
       "             ('指出', 354),\n",
       "             ...])"
      ]
     },
     "execution_count": 67,
     "metadata": {},
     "output_type": "execute_result"
    }
   ],
   "source": [
    "text_preprocesser.word_counts"
   ]
  },
  {
   "cell_type": "markdown",
   "metadata": {},
   "source": [
    "## 转换id"
   ]
  },
  {
   "cell_type": "code",
   "execution_count": 69,
   "metadata": {},
   "outputs": [],
   "source": [
    "x = text_preprocesser.texts_to_sequences(corpus)\n",
    "word_dict = text_preprocesser.word_index"
   ]
  },
  {
   "cell_type": "markdown",
   "metadata": {},
   "source": [
    "## 保存字典"
   ]
  },
  {
   "cell_type": "code",
   "execution_count": 72,
   "metadata": {},
   "outputs": [],
   "source": [
    "with open('data/vocab.txt', 'w', encoding='utf-8') as f:\n",
    "    for k, v in word_dict.items():\n",
    "        f.write(f'{k}\\t{str(v)}\\n')"
   ]
  },
  {
   "cell_type": "markdown",
   "metadata": {},
   "source": [
    "## 标签编码"
   ]
  },
  {
   "cell_type": "code",
   "execution_count": 73,
   "metadata": {},
   "outputs": [
    {
     "name": "stdout",
     "output_type": "stream",
     "text": [
      "['__label__古代史' '__label__现代史' '__label__近代史']\n"
     ]
    }
   ],
   "source": [
    "lb = LabelBinarizer()\n",
    "lb.fit(dataset_df['label'])\n",
    "print(lb.classes_)\n",
    "y = lb.transform(dataset_df['label'])"
   ]
  },
  {
   "cell_type": "code",
   "execution_count": 74,
   "metadata": {},
   "outputs": [
    {
     "data": {
      "text/plain": [
       "array([[1, 0, 0],\n",
       "       [1, 0, 0],\n",
       "       [1, 0, 0],\n",
       "       ...,\n",
       "       [0, 0, 1],\n",
       "       [0, 0, 1],\n",
       "       [0, 0, 1]])"
      ]
     },
     "execution_count": 74,
     "metadata": {},
     "output_type": "execute_result"
    }
   ],
   "source": [
    "y"
   ]
  },
  {
   "cell_type": "markdown",
   "metadata": {},
   "source": [
    "## 划分数据集"
   ]
  },
  {
   "cell_type": "code",
   "execution_count": 82,
   "metadata": {},
   "outputs": [],
   "source": [
    "train_x, test_x, train_y, test_y = train_test_split(x, y, test_size=0.2, random_state=42)"
   ]
  },
  {
   "cell_type": "markdown",
   "metadata": {},
   "source": [
    "## 特征提取"
   ]
  },
  {
   "cell_type": "code",
   "execution_count": 76,
   "metadata": {},
   "outputs": [],
   "source": [
    "def create_ngram_set(input_list, ngram_value=2):\n",
    "    \"\"\"\n",
    "    Extract a set of n-grams from a list of integers.\n",
    "    # >>> create_ngram_set([1, 4, 9, 4, 1, 4], ngram_value=2)\n",
    "    {(4, 9), (4, 1), (1, 4), (9, 4)}\n",
    "    # >>> create_ngram_set([1, 4, 9, 4, 1, 4], ngram_value=3)\n",
    "    [(1, 4, 9), (4, 9, 4), (9, 4, 1), (4, 1, 4)]\n",
    "    \"\"\"\n",
    "    return set(zip(*[input_list[i:] for i in range(ngram_value)]))\n",
    "\n",
    "\n",
    "def add_ngram(sequences, token_indice, ngram_range=2):\n",
    "    \"\"\"\n",
    "    Augment the input list of list (sequences) by appending n-grams values.\n",
    "    Example: adding bi-gram\n",
    "    # >>> sequences = [[1, 3, 4, 5], [1, 3, 7, 9, 2]]\n",
    "    # >>> token_indice = {(1, 3): 1337, (9, 2): 42, (4, 5): 2017}\n",
    "    # >>> add_ngram(sequences, token_indice, ngram_range=2)\n",
    "    [[1, 3, 4, 5, 1337, 2017], [1, 3, 7, 9, 2, 1337, 42]]\n",
    "    Example: adding tri-gram\n",
    "    # >>> sequences = [[1, 3, 4, 5], [1, 3, 7, 9, 2]]\n",
    "    # >>> token_indice = {(1, 3): 1337, (9, 2): 42, (4, 5): 2017, (7, 9, 2): 2018}\n",
    "    # >>> add_ngram(sequences, token_indice, ngram_range=3)\n",
    "    [[1, 3, 4, 5, 1337, 2017], [1, 3, 7, 9, 2, 1337, 42, 2018]]\n",
    "    \"\"\"\n",
    "    new_sequences = []\n",
    "    for input_list in sequences:\n",
    "        new_list = input_list[:]\n",
    "        for ngram_value in range(2, ngram_range + 1):\n",
    "            for i in range(len(new_list) - ngram_value + 1):\n",
    "                ngram = tuple(new_list[i:i + ngram_value])\n",
    "                if ngram in token_indice:\n",
    "                    new_list.append(token_indice[ngram])\n",
    "        new_sequences.append(new_list)\n",
    "    return np.array(new_sequences)"
   ]
  },
  {
   "cell_type": "code",
   "execution_count": 77,
   "metadata": {},
   "outputs": [],
   "source": [
    "if ngram_range > 1:\n",
    "    print('Adding {}-gram features'.format(ngram_range))\n",
    "    # Create set of unique n-gram from the training set.\n",
    "    ngram_set = set()\n",
    "    for input_list in X_train:\n",
    "        for i in range(2, ngram_range + 1):\n",
    "            set_of_ngram = create_ngram_set(input_list, ngram_value=i)\n",
    "            ngram_set.update(set_of_ngram)\n",
    "\n",
    "    # Dictionary mapping n-gram token to a unique integer.\n",
    "    # Integer values are greater than max_features in order\n",
    "    # to avoid collision with existing features.\n",
    "    start_index = max_features + 1\n",
    "    token_indice = {v: k + start_index for k, v in enumerate(ngram_set)}\n",
    "    indice_token = {token_indice[k]: k for k in token_indice}\n",
    "\n",
    "    # max_features is the highest integer that could be found in the dataset.\n",
    "    max_features = np.max(list(indice_token.keys())) + 1\n",
    "\n",
    "    # Augmenting x_train and x_test with n-grams features\n",
    "    X_train = add_ngram(X_train, token_indice, ngram_range)\n",
    "    X_test = add_ngram(X_test, token_indice, ngram_range)"
   ]
  },
  {
   "cell_type": "markdown",
   "metadata": {},
   "source": [
    "## Padding"
   ]
  },
  {
   "cell_type": "code",
   "execution_count": 83,
   "metadata": {},
   "outputs": [
    {
     "name": "stdout",
     "output_type": "stream",
     "text": [
      "Average train sequence length: 120\n",
      "Average test sequence length: 119\n",
      "Average lenght:121\n"
     ]
    }
   ],
   "source": [
    "print('Average train sequence length: {}'.format(np.mean(list(map(len, train_x)), dtype=int)))\n",
    "print('Average test sequence length: {}'.format(np.mean(list(map(len, test_x)), dtype=int)))\n",
    "maxlen=int(np.ceil(max(np.mean(list(map(len, train_x))),np.mean(list(map(len, test_x))))))\n",
    "print('Average lenght:{}'.format(maxlen))"
   ]
  },
  {
   "cell_type": "code",
   "execution_count": 84,
   "metadata": {},
   "outputs": [
    {
     "name": "stdout",
     "output_type": "stream",
     "text": [
      "Pad sequences (samples x time)...\n",
      "x_train shape: (3976, 121)\n",
      "x_test shape: (994, 121)\n"
     ]
    }
   ],
   "source": [
    "print('Pad sequences (samples x time)...')\n",
    "train_x = sequence.pad_sequences(train_x, maxlen=maxlen, padding='post', truncating='post')\n",
    "test_x = sequence.pad_sequences(test_x, maxlen=maxlen, padding='post', truncating='post')\n",
    "print('x_train shape:', train_x.shape)\n",
    "print('x_test shape:', test_x.shape)"
   ]
  },
  {
   "cell_type": "markdown",
   "metadata": {},
   "source": [
    "# FastText"
   ]
  },
  {
   "cell_type": "markdown",
   "metadata": {},
   "source": [
    "> 1. 第一层是嵌入（Embedding）层。该层采用整数编码的词汇表，并查找每个词索引的嵌入向量（embedding vector）。这些向量是通过模型训练学习到的。向量向输出数组增加了一个维度。得到的维度为：(batch, sequence, embedding)。\n",
    "2. 接下来，GlobalAveragePooling1D 将通过对序列维度求平均值来为每个样本返回一个定长输出向量。这允许模型以尽可能最简单的方式处理变长输入。\n",
    "3. 最后一层与单个输出结点密集连接。使用 Sigmoid 激活函数，其函数值为介于 0 与 1 之间的浮点数，表示概率或置信度。"
   ]
  },
  {
   "cell_type": "code",
   "execution_count": 126,
   "metadata": {},
   "outputs": [],
   "source": [
    "class FastText(object):\n",
    "    def __init__(self, maxlen, max_features, embedding_dims, class_num, last_activation='sigmoid'):\n",
    "        self.maxlen = maxlen\n",
    "        self.max_features = max_features\n",
    "        self.embedding_dims = embedding_dims\n",
    "        self.class_num = class_num\n",
    "        self.last_activation = last_activation\n",
    "    \n",
    "    def get_model(self):\n",
    "        inputs = Input((self.maxlen,))\n",
    "        embedding = Embedding(self.max_features, self.embedding_dims, input_length=self.maxlen)(inputs)\n",
    "        x = GlobalAveragePooling1D()(embedding)\n",
    "        output = Dense(self.class_num, activation=self.last_activation)(x)\n",
    "        model = Model(inputs=inputs, outputs=output)\n",
    "        return model"
   ]
  },
  {
   "cell_type": "code",
   "execution_count": 136,
   "metadata": {},
   "outputs": [],
   "source": [
    "batch_size = 128\n",
    "embedding_dims = 300\n",
    "epochs = 20"
   ]
  },
  {
   "cell_type": "code",
   "execution_count": 137,
   "metadata": {},
   "outputs": [
    {
     "name": "stdout",
     "output_type": "stream",
     "text": [
      "Build model...\n",
      "Model: \"model_5\"\n",
      "_________________________________________________________________\n",
      "Layer (type)                 Output Shape              Param #   \n",
      "=================================================================\n",
      "input_15 (InputLayer)        [(None, 121)]             0         \n",
      "_________________________________________________________________\n",
      "embedding_5 (Embedding)      (None, 121, 300)          3000000   \n",
      "_________________________________________________________________\n",
      "global_average_pooling1d_5 ( (None, 300)               0         \n",
      "_________________________________________________________________\n",
      "dense_5 (Dense)              (None, 3)                 903       \n",
      "=================================================================\n",
      "Total params: 3,000,903\n",
      "Trainable params: 3,000,903\n",
      "Non-trainable params: 0\n",
      "_________________________________________________________________\n"
     ]
    }
   ],
   "source": [
    "print('Build model...')\n",
    "model = FastText(maxlen, max_features, embedding_dims,class_num).get_model()\n",
    "model.compile('adam', 'binary_crossentropy', metrics=['accuracy'])\n",
    "model.summary()"
   ]
  },
  {
   "cell_type": "code",
   "execution_count": 138,
   "metadata": {},
   "outputs": [
    {
     "name": "stdout",
     "output_type": "stream",
     "text": [
      "Train...\n",
      "Train on 3976 samples, validate on 994 samples\n",
      "Epoch 1/20\n",
      "3976/3976 [==============================] - 2s 466us/sample - loss: 0.6612 - accuracy: 0.6886 - val_loss: 0.6237 - val_accuracy: 0.6911\n",
      "Epoch 2/20\n",
      "3976/3976 [==============================] - 1s 351us/sample - loss: 0.5909 - accuracy: 0.7135 - val_loss: 0.5678 - val_accuracy: 0.7284\n",
      "Epoch 3/20\n",
      "3976/3976 [==============================] - 1s 362us/sample - loss: 0.5396 - accuracy: 0.7477 - val_loss: 0.5231 - val_accuracy: 0.7384\n",
      "Epoch 4/20\n",
      "3976/3976 [==============================] - 1s 348us/sample - loss: 0.4894 - accuracy: 0.7691 - val_loss: 0.4732 - val_accuracy: 0.7740\n",
      "Epoch 5/20\n",
      "3976/3976 [==============================] - 1s 348us/sample - loss: 0.4368 - accuracy: 0.8125 - val_loss: 0.4284 - val_accuracy: 0.8052\n",
      "Epoch 6/20\n",
      "3976/3976 [==============================] - 1s 351us/sample - loss: 0.3906 - accuracy: 0.8407 - val_loss: 0.3947 - val_accuracy: 0.8192\n",
      "Epoch 7/20\n",
      "3976/3976 [==============================] - 1s 328us/sample - loss: 0.3533 - accuracy: 0.8560 - val_loss: 0.3722 - val_accuracy: 0.8276\n",
      "Epoch 8/20\n",
      "3976/3976 [==============================] - 1s 334us/sample - loss: 0.3242 - accuracy: 0.8683 - val_loss: 0.3560 - val_accuracy: 0.8310\n",
      "Epoch 9/20\n",
      "3976/3976 [==============================] - 1s 352us/sample - loss: 0.3018 - accuracy: 0.8733 - val_loss: 0.3478 - val_accuracy: 0.8320\n",
      "Epoch 10/20\n",
      "3976/3976 [==============================] - 1s 337us/sample - loss: 0.2835 - accuracy: 0.8782 - val_loss: 0.3427 - val_accuracy: 0.8300\n",
      "Epoch 11/20\n",
      "3976/3976 [==============================] - 1s 350us/sample - loss: 0.2692 - accuracy: 0.8815 - val_loss: 0.3402 - val_accuracy: 0.8283\n",
      "Epoch 12/20\n",
      "3976/3976 [==============================] - 1s 341us/sample - loss: 0.2568 - accuracy: 0.8853 - val_loss: 0.3420 - val_accuracy: 0.8270\n",
      "Epoch 13/20\n",
      "3976/3976 [==============================] - 1s 343us/sample - loss: 0.2468 - accuracy: 0.8862 - val_loss: 0.3441 - val_accuracy: 0.8266\n",
      "Epoch 14/20\n",
      "3976/3976 [==============================] - 1s 367us/sample - loss: 0.2378 - accuracy: 0.8893 - val_loss: 0.3478 - val_accuracy: 0.8249\n"
     ]
    }
   ],
   "source": [
    "print('Train...')\n",
    "early_stopping = EarlyStopping(monitor='val_accuracy', patience=5, mode='max')\n",
    "history = model.fit(train_x, train_y,\n",
    "                    batch_size=batch_size,\n",
    "                    epochs=epochs,\n",
    "                    workers=32,\n",
    "                    use_multiprocessing=True,\n",
    "                    callbacks=[early_stopping],\n",
    "                    validation_data=(test_x, test_y))"
   ]
  },
  {
   "cell_type": "code",
   "execution_count": 139,
   "metadata": {},
   "outputs": [],
   "source": [
    "from sklearn.metrics import classification_report, multilabel_confusion_matrix, confusion_matrix"
   ]
  },
  {
   "cell_type": "code",
   "execution_count": 140,
   "metadata": {},
   "outputs": [
    {
     "name": "stdout",
     "output_type": "stream",
     "text": [
      "994/1 - 0s - loss: 0.3108 - accuracy: 0.8249\n",
      "[0.3477595634983339, 0.8249497]\n"
     ]
    }
   ],
   "source": [
    "results = model.evaluate(test_x, test_y, verbose=2)\n",
    "print(results)"
   ]
  },
  {
   "cell_type": "code",
   "execution_count": 141,
   "metadata": {},
   "outputs": [
    {
     "data": {
      "image/png": "[encoded data removed]",
      "text/plain": [
       "<Figure size 432x288 with 1 Axes>"
      ]
     },
     "metadata": {
      "needs_background": "light"
     },
     "output_type": "display_data"
    }
   ],
   "source": [
    "import matplotlib.pyplot as plt\n",
    "\n",
    "history_dict = history.history\n",
    "history_dict.keys()\n",
    "\n",
    "acc = history_dict['accuracy']\n",
    "val_acc = history_dict['val_accuracy']\n",
    "loss = history_dict['loss']\n",
    "val_loss = history_dict['val_loss']\n",
    "\n",
    "epochs = range(1, len(acc) + 1)\n",
    "\n",
    "# “bo”代表 \"蓝点\"\n",
    "plt.plot(epochs, loss, 'bo', label='Training loss')\n",
    "# b代表“蓝色实线”\n",
    "plt.plot(epochs, val_loss, 'b', label='Validation loss')\n",
    "plt.title('Training and validation loss')\n",
    "plt.xlabel('Epochs')\n",
    "plt.ylabel('Loss')\n",
    "plt.legend()\n",
    "\n",
    "plt.show()"
   ]
  },
  {
   "cell_type": "code",
   "execution_count": 142,
   "metadata": {},
   "outputs": [
    {
     "name": "stdout",
     "output_type": "stream",
     "text": [
      "Test...\n",
      "sequences 20 epochs max_features10000 classification_report: \n",
      "\n",
      "              precision    recall  f1-score   support\n",
      "\n",
      "           0       0.93      0.85      0.89       213\n",
      "           1       0.69      0.80      0.74       451\n",
      "           2       0.71      0.59      0.64       330\n",
      "\n",
      "    accuracy                           0.74       994\n",
      "   macro avg       0.78      0.75      0.76       994\n",
      "weighted avg       0.75      0.74      0.74       994\n",
      "\n",
      "sequences 20 epochs confusion_matrix: \n",
      "\n"
     ]
    },
    {
     "data": {
      "text/plain": [
       "array([[180,  31,   2],\n",
       "       [  9, 363,  79],\n",
       "       [  4, 131, 195]])"
      ]
     },
     "execution_count": 142,
     "metadata": {},
     "output_type": "execute_result"
    }
   ],
   "source": [
    "print('Test...')\n",
    "pred_y = model.predict(test_x)\n",
    "pred_y=pred_y.argmax(axis=1)\n",
    "true_y=test_y.argmax(axis=1)\n",
    "print('sequences 20 epochs max_features{} classification_report: \\n'.format(max_features))\n",
    "print(classification_report(true_y, pred_y))\n",
    "print('sequences 20 epochs confusion_matrix: \\n')\n",
    "confusion_matrix(true_y, pred_y)"
   ]
  },
  {
   "cell_type": "code",
   "execution_count": 143,
   "metadata": {},
   "outputs": [
    {
     "data": {
      "image/png": "[encoded data removed]",
      "text/plain": [
       "<Figure size 432x288 with 1 Axes>"
      ]
     },
     "metadata": {
      "needs_background": "light"
     },
     "output_type": "display_data"
    }
   ],
   "source": [
    "plt.clf()   # 清除数字\n",
    "\n",
    "plt.plot(epochs, acc, 'bo', label='Training acc')\n",
    "plt.plot(epochs, val_acc, 'b', label='Validation acc')\n",
    "plt.title('Training and validation accuracy')\n",
    "plt.xlabel('Epochs')\n",
    "plt.ylabel('Accuracy')\n",
    "plt.legend()\n",
    "\n",
    "plt.show()"
   ]
  },
  {
   "cell_type": "markdown",
   "metadata": {},
   "source": [
    "# 3.调包-FastText"
   ]
  },
  {
   "cell_type": "markdown",
   "metadata": {},
   "source": [
    "https://github.com/facebookresearch/fastText"
   ]
  },
  {
   "cell_type": "code",
   "execution_count": 153,
   "metadata": {},
   "outputs": [
    {
     "ename": "ModuleNotFoundError",
     "evalue": "No module named 'fasttext'",
     "output_type": "error",
     "traceback": [
      "\u001b[0;31m---------------------------------------------------------------------------\u001b[0m",
      "\u001b[0;31mModuleNotFoundError\u001b[0m                       Traceback (most recent call last)",
      "\u001b[0;32m<ipython-input-153-fb4477e5b65b>\u001b[0m in \u001b[0;36m<module>\u001b[0;34m\u001b[0m\n\u001b[0;32m----> 1\u001b[0;31m \u001b[0;32mfrom\u001b[0m \u001b[0mfasttext\u001b[0m \u001b[0;32mimport\u001b[0m \u001b[0mtrain_supervised\u001b[0m\u001b[0;34m\u001b[0m\u001b[0m\n\u001b[0m",
      "\u001b[0;31mModuleNotFoundError\u001b[0m: No module named 'fasttext'"
     ]
    }
   ],
   "source": [
    "from fasttext import train_supervised"
   ]
  },
  {
   "cell_type": "markdown",
   "metadata": {},
   "source": [
    "## 训练数据和测试数据划分"
   ]
  },
  {
   "cell_type": "code",
   "execution_count": 145,
   "metadata": {},
   "outputs": [],
   "source": [
    "train_data, test_data=train_test_split(dataset_df[['label','item']],test_size=0.2,random_state=42)"
   ]
  },
  {
   "cell_type": "markdown",
   "metadata": {},
   "source": [
    "## 保存数据"
   ]
  },
  {
   "cell_type": "code",
   "execution_count": 147,
   "metadata": {},
   "outputs": [],
   "source": [
    "train_data_path='data/FastText/train_data.csv'\n",
    "test_data_path='data/FastText/test_data.csv'\n",
    "\n",
    "train_data.to_csv(train_data_path, index=None, header=None, sep=' ')\n",
    "test_data.to_csv(test_data_path, index=None, header=None, sep=' ')"
   ]
  },
  {
   "cell_type": "code",
   "execution_count": 148,
   "metadata": {},
   "outputs": [
    {
     "ename": "NameError",
     "evalue": "name 'train_supervised' is not defined",
     "output_type": "error",
     "traceback": [
      "\u001b[0;31m---------------------------------------------------------------------------\u001b[0m",
      "\u001b[0;31mNameError\u001b[0m                                 Traceback (most recent call last)",
      "\u001b[0;32m<ipython-input-148-c387156ba935>\u001b[0m in \u001b[0;36m<module>\u001b[0;34m\u001b[0m\n\u001b[0;32m----> 1\u001b[0;31m \u001b[0mmodel\u001b[0m \u001b[0;34m=\u001b[0m \u001b[0mtrain_supervised\u001b[0m\u001b[0;34m(\u001b[0m\u001b[0minput\u001b[0m\u001b[0;34m=\u001b[0m\u001b[0mtrain_data_path\u001b[0m\u001b[0;34m,\u001b[0m \u001b[0mepoch\u001b[0m\u001b[0;34m=\u001b[0m\u001b[0;36m20\u001b[0m\u001b[0;34m,\u001b[0m \u001b[0mlr\u001b[0m\u001b[0;34m=\u001b[0m\u001b[0;36m1.0\u001b[0m\u001b[0;34m,\u001b[0m \u001b[0mwordNgrams\u001b[0m\u001b[0;34m=\u001b[0m\u001b[0;36m2\u001b[0m\u001b[0;34m,\u001b[0m \u001b[0mverbose\u001b[0m\u001b[0;34m=\u001b[0m\u001b[0;36m2\u001b[0m\u001b[0;34m,\u001b[0m \u001b[0mminCount\u001b[0m\u001b[0;34m=\u001b[0m\u001b[0;36m1\u001b[0m\u001b[0;34m)\u001b[0m\u001b[0;34m\u001b[0m\u001b[0m\n\u001b[0m",
      "\u001b[0;31mNameError\u001b[0m: name 'train_supervised' is not defined"
     ]
    }
   ],
   "source": [
    "model = train_supervised(input=train_data_path, epoch=20, lr=1.0, wordNgrams=2, verbose=2, minCount=1)"
   ]
  },
  {
   "cell_type": "markdown",
   "metadata": {},
   "source": [
    "## 评估"
   ]
  },
  {
   "cell_type": "code",
   "execution_count": 149,
   "metadata": {},
   "outputs": [],
   "source": [
    "def print_results(N, p, r):\n",
    "    print(\"N\\t\" + str(N))\n",
    "    print(\"P@{}\\t{:.3f}\".format(1, p))\n",
    "    print(\"R@{}\\t{:.3f}\".format(1, r))"
   ]
  },
  {
   "cell_type": "code",
   "execution_count": 150,
   "metadata": {},
   "outputs": [
    {
     "ename": "AttributeError",
     "evalue": "'Model' object has no attribute 'test'",
     "output_type": "error",
     "traceback": [
      "\u001b[0;31m---------------------------------------------------------------------------\u001b[0m",
      "\u001b[0;31mAttributeError\u001b[0m                            Traceback (most recent call last)",
      "\u001b[0;32m<ipython-input-150-383a59e8fb82>\u001b[0m in \u001b[0;36m<module>\u001b[0;34m\u001b[0m\n\u001b[0;32m----> 1\u001b[0;31m \u001b[0mprint_results\u001b[0m\u001b[0;34m(\u001b[0m\u001b[0;34m*\u001b[0m\u001b[0mmodel\u001b[0m\u001b[0;34m.\u001b[0m\u001b[0mtest\u001b[0m\u001b[0;34m(\u001b[0m\u001b[0mtest_data_path\u001b[0m\u001b[0;34m)\u001b[0m\u001b[0;34m)\u001b[0m\u001b[0;34m\u001b[0m\u001b[0m\n\u001b[0m",
      "\u001b[0;31mAttributeError\u001b[0m: 'Model' object has no attribute 'test'"
     ]
    }
   ],
   "source": [
    "print_results(*model.test(test_data_path))"
   ]
  },
  {
   "cell_type": "markdown",
   "metadata": {},
   "source": [
    "## 保存模型"
   ]
  },
  {
   "cell_type": "code",
   "execution_count": 151,
   "metadata": {},
   "outputs": [
    {
     "ename": "AttributeError",
     "evalue": "'Model' object has no attribute 'save_model'",
     "output_type": "error",
     "traceback": [
      "\u001b[0;31m---------------------------------------------------------------------------\u001b[0m",
      "\u001b[0;31mAttributeError\u001b[0m                            Traceback (most recent call last)",
      "\u001b[0;32m<ipython-input-151-2a73190deecf>\u001b[0m in \u001b[0;36m<module>\u001b[0;34m\u001b[0m\n\u001b[0;32m----> 1\u001b[0;31m \u001b[0mmodel\u001b[0m\u001b[0;34m.\u001b[0m\u001b[0msave_model\u001b[0m\u001b[0;34m(\u001b[0m\u001b[0;34m\"data/FastText/model/his.bin\"\u001b[0m\u001b[0;34m)\u001b[0m\u001b[0;34m\u001b[0m\u001b[0m\n\u001b[0m",
      "\u001b[0;31mAttributeError\u001b[0m: 'Model' object has no attribute 'save_model'"
     ]
    }
   ],
   "source": [
    "model.save_model(\"data/FastText/model/his.bin\")"
   ]
  },
  {
   "cell_type": "markdown",
   "metadata": {},
   "source": [
    "## 量化"
   ]
  },
  {
   "cell_type": "code",
   "execution_count": 152,
   "metadata": {},
   "outputs": [
    {
     "ename": "AttributeError",
     "evalue": "'Model' object has no attribute 'quantize'",
     "output_type": "error",
     "traceback": [
      "\u001b[0;31m---------------------------------------------------------------------------\u001b[0m",
      "\u001b[0;31mAttributeError\u001b[0m                            Traceback (most recent call last)",
      "\u001b[0;32m<ipython-input-152-6f9b2468fa5f>\u001b[0m in \u001b[0;36m<module>\u001b[0;34m\u001b[0m\n\u001b[0;32m----> 1\u001b[0;31m \u001b[0mmodel\u001b[0m\u001b[0;34m.\u001b[0m\u001b[0mquantize\u001b[0m\u001b[0;34m(\u001b[0m\u001b[0minput\u001b[0m\u001b[0;34m=\u001b[0m\u001b[0mtrain_data_path\u001b[0m\u001b[0;34m,\u001b[0m \u001b[0mqnorm\u001b[0m\u001b[0;34m=\u001b[0m\u001b[0;32mTrue\u001b[0m\u001b[0;34m,\u001b[0m \u001b[0mretrain\u001b[0m\u001b[0;34m=\u001b[0m\u001b[0;32mTrue\u001b[0m\u001b[0;34m,\u001b[0m \u001b[0mcutoff\u001b[0m\u001b[0;34m=\u001b[0m\u001b[0;36m100000\u001b[0m\u001b[0;34m)\u001b[0m\u001b[0;34m\u001b[0m\u001b[0m\n\u001b[0m\u001b[1;32m      2\u001b[0m \u001b[0mprint_results\u001b[0m\u001b[0;34m(\u001b[0m\u001b[0;34m*\u001b[0m\u001b[0mmodel\u001b[0m\u001b[0;34m.\u001b[0m\u001b[0mtest\u001b[0m\u001b[0;34m(\u001b[0m\u001b[0mtest_data_path\u001b[0m\u001b[0;34m)\u001b[0m\u001b[0;34m)\u001b[0m\u001b[0;34m\u001b[0m\u001b[0m\n\u001b[1;32m      3\u001b[0m \u001b[0mmodel\u001b[0m\u001b[0;34m.\u001b[0m\u001b[0msave_model\u001b[0m\u001b[0;34m(\u001b[0m\u001b[0;34m\"data/FastText/model/his.ftz\"\u001b[0m\u001b[0;34m)\u001b[0m\u001b[0;34m\u001b[0m\u001b[0m\n",
      "\u001b[0;31mAttributeError\u001b[0m: 'Model' object has no attribute 'quantize'"
     ]
    }
   ],
   "source": [
    "model.quantize(input=train_data_path, qnorm=True, retrain=True, cutoff=100000)\n",
    "print_results(*model.test(test_data_path))\n",
    "model.save_model(\"data/FastText/model/his.ftz\")"
   ]
  },
  {
   "cell_type": "code",
   "execution_count": null,
   "metadata": {},
   "outputs": [],
   "source": []
  }
 ],
 "metadata": {
  "kernelspec": {
   "display_name": "Python 3",
   "language": "python",
   "name": "python3"
  },
  "language_info": {
   "codemirror_mode": {
    "name": "ipython",
    "version": 3
   },
   "file_extension": ".py",
   "mimetype": "text/x-python",
   "name": "python",
   "nbconvert_exporter": "python",
   "pygments_lexer": "ipython3",
   "version": "3.6.5"
  }
 },
 "nbformat": 4,
 "nbformat_minor": 2
}
