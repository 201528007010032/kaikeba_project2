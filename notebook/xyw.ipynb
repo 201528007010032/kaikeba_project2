{
 "cells": [
  {
   "cell_type": "markdown",
   "metadata": {},
   "source": [
    "# 1、二分查找"
   ]
  },
  {
   "cell_type": "code",
   "execution_count": 1,
   "metadata": {},
   "outputs": [],
   "source": [
    "def binary_search(num, arr, start, end):\n",
    "    if start >= end:\n",
    "        return False\n",
    "    mid = (start + end) // 2\n",
    "    if num == arr[mid]:\n",
    "        return mid\n",
    "    elif num < arr[mid]:\n",
    "        return binary_search(num, arr, start, mid)\n",
    "    else:\n",
    "        return binary_search(num, arr, mid + 1, end)"
   ]
  },
  {
   "cell_type": "code",
   "execution_count": 2,
   "metadata": {},
   "outputs": [
    {
     "data": {
      "text/plain": [
       "4"
      ]
     },
     "execution_count": 2,
     "metadata": {},
     "output_type": "execute_result"
    }
   ],
   "source": [
    "binary_search(5, [1,2,3,4,5,6,7,8,9], 0, 9)"
   ]
  },
  {
   "cell_type": "markdown",
   "metadata": {},
   "source": [
    "# 2、快速排序"
   ]
  },
  {
   "cell_type": "code",
   "execution_count": 8,
   "metadata": {},
   "outputs": [],
   "source": [
    "def quick_sort(arr, low, high):\n",
    "    i, j = low, high\n",
    "    if i < j:\n",
    "        tmp = arr[i]\n",
    "        while i != j:\n",
    "            while arr[j] > tmp and j > i:\n",
    "                j -= 1\n",
    "            arr[i] = arr[j]\n",
    "            while arr[i] < tmp and i < j:\n",
    "                i += 1\n",
    "            arr[j] = arr[i]\n",
    "        arr[i] = tmp\n",
    "        quick_sort(arr, low, i - 1)\n",
    "        quick_sort(arr, i + 1, high)"
   ]
  },
  {
   "cell_type": "code",
   "execution_count": 9,
   "metadata": {},
   "outputs": [
    {
     "name": "stdout",
     "output_type": "stream",
     "text": [
      "CPU times: user 32 µs, sys: 0 ns, total: 32 µs\n",
      "Wall time: 43.2 µs\n"
     ]
    },
    {
     "data": {
      "text/plain": [
       "[3, 4, 5, 6, 7, 8, 9, 65, 78, 93]"
      ]
     },
     "execution_count": 9,
     "metadata": {},
     "output_type": "execute_result"
    }
   ],
   "source": [
    "%%time\n",
    "arr = [3,6,8,78,4,9,5,93,7,65]\n",
    "quick_sort(arr, 0, len(arr) - 1)\n",
    "arr"
   ]
  },
  {
   "cell_type": "markdown",
   "metadata": {},
   "source": [
    "# 3、堆排序"
   ]
  },
  {
   "cell_type": "code",
   "execution_count": 63,
   "metadata": {},
   "outputs": [],
   "source": [
    "def heapify(arr, n, i): \n",
    "    largest = i  \n",
    "    l = 2 * i + 1     # left = 2*i + 1 \n",
    "    r = 2 * i + 2     # right = 2*i + 2 \n",
    "  \n",
    "    if l < n and arr[i] < arr[l]: \n",
    "        largest = l \n",
    "  \n",
    "    if r < n and arr[largest] < arr[r]: \n",
    "        largest = r \n",
    "  \n",
    "    if largest != i: \n",
    "        arr[i],arr[largest] = arr[largest],arr[i]  # 交换\n",
    "  \n",
    "        heapify(arr, n, largest) \n",
    "\n",
    "def heapSort(arr): \n",
    "    n = len(arr) \n",
    "  \n",
    "    # Build a maxheap. \n",
    "    for i in range(n, -1, -1): \n",
    "        heapify(arr, n, i) \n",
    "  \n",
    "    # 一个个交换元素\n",
    "    for i in range(n-1, 0, -1): \n",
    "        arr[i], arr[0] = arr[0], arr[i]   # 交换\n",
    "        heapify(arr, i, 0)\n",
    "    return arr"
   ]
  },
  {
   "cell_type": "code",
   "execution_count": 64,
   "metadata": {},
   "outputs": [
    {
     "name": "stdout",
     "output_type": "stream",
     "text": [
      "CPU times: user 46 µs, sys: 15 µs, total: 61 µs\n",
      "Wall time: 64.1 µs\n"
     ]
    },
    {
     "data": {
      "text/plain": [
       "[3, 4, 5, 6, 7, 8, 9, 65, 78, 93]"
      ]
     },
     "execution_count": 64,
     "metadata": {},
     "output_type": "execute_result"
    }
   ],
   "source": [
    "%%time\n",
    "arr = [3,6,8,78,4,9,5,93,7,65]\n",
    "heapSort(arr)"
   ]
  },
  {
   "cell_type": "markdown",
   "metadata": {},
   "source": [
    "# 4、归并排序"
   ]
  },
  {
   "cell_type": "code",
   "execution_count": 65,
   "metadata": {},
   "outputs": [],
   "source": [
    "def merge(arr1, arr2):\n",
    "    m, n = len(arr1), len(arr2)\n",
    "    i, j =0, 0\n",
    "    arr = []\n",
    "    while i < m and j < n:\n",
    "        if arr1[i] < arr2[j]:\n",
    "            arr.append(arr1[i])\n",
    "            i += 1\n",
    "        else:\n",
    "            arr.append(arr2[j])\n",
    "            j += 1\n",
    "    if i == m:\n",
    "        return arr + arr2[j:]\n",
    "    else:\n",
    "        return arr + arr1[i:]\n",
    "    \n",
    "def merge_sort(arr, low, high):\n",
    "    if len(arr) == 1:\n",
    "        return arr\n",
    "    mid = len(arr) // 2\n",
    "    left = arr[:mid]\n",
    "    right = arr[mid:]\n",
    "    return merge(merge_sort(left), merge_sort(right))\n",
    "    "
   ]
  },
  {
   "cell_type": "code",
   "execution_count": 70,
   "metadata": {},
   "outputs": [
    {
     "name": "stdout",
     "output_type": "stream",
     "text": [
      "CPU times: user 44 µs, sys: 1 µs, total: 45 µs\n",
      "Wall time: 47.9 µs\n"
     ]
    },
    {
     "data": {
      "text/plain": [
       "[3, 4, 5, 6, 7, 8, 9, 65, 78, 93]"
      ]
     },
     "execution_count": 70,
     "metadata": {},
     "output_type": "execute_result"
    }
   ],
   "source": [
    "%%time\n",
    "arr = [3,6,8,78,4,9,5,93,7,65]\n",
    "heapSort(arr)"
   ]
  },
  {
   "cell_type": "markdown",
   "metadata": {},
   "source": [
    "# 5、斐波那契数列，青蛙跳台阶问题"
   ]
  },
  {
   "cell_type": "code",
   "execution_count": 115,
   "metadata": {},
   "outputs": [],
   "source": [
    "import numpy as np\n",
    "def fibonacci_1(n):\n",
    "    return n if n <= 2 else fibonacci_1(n - 1) + fibonacci_1(n - 2)\n",
    "\n",
    "def fibonacci_2(n):\n",
    "    if n <= 2:\n",
    "        return n\n",
    "    a, b = 1, 2\n",
    "    for i in range(2, n):\n",
    "        a, b = b, a + b\n",
    "    return b\n",
    "\n",
    "def fibonacci_3(n):\n",
    "    if n <= 2:\n",
    "        return n\n",
    "    return int((np.power((1 + np.sqrt(5)) / 2, n+1) - np.power((1 - np.sqrt(5)) / 2, n+1)) / np.sqrt(5))"
   ]
  },
  {
   "cell_type": "code",
   "execution_count": 120,
   "metadata": {},
   "outputs": [
    {
     "data": {
      "text/plain": [
       "89"
      ]
     },
     "execution_count": 120,
     "metadata": {},
     "output_type": "execute_result"
    }
   ],
   "source": [
    "fibonacci_2(10)"
   ]
  },
  {
   "cell_type": "markdown",
   "metadata": {},
   "source": [
    "# 6、top_k问题"
   ]
  },
  {
   "cell_type": "code",
   "execution_count": 39,
   "metadata": {},
   "outputs": [],
   "source": [
    "def top_k(arr, k):\n",
    "    n = len(arr)\n",
    "    if k >= n:\n",
    "        return arr\n",
    "    buffer = []\n",
    "    while arr:\n",
    "        mark = arr.pop()\n",
    "        less, greater = [], []\n",
    "        for x in arr:\n",
    "            if x <= mark:\n",
    "                less.append(x)\n",
    "            else:\n",
    "                greater.append(x)\n",
    "        if len(less) == k:\n",
    "            return buffer + less\n",
    "        elif len(less) < k:\n",
    "            buffer += less\n",
    "            k -= len(less)\n",
    "            arr = [mark] + greater\n",
    "        else:\n",
    "            arr = less"
   ]
  },
  {
   "cell_type": "code",
   "execution_count": 44,
   "metadata": {},
   "outputs": [
    {
     "name": "stdout",
     "output_type": "stream",
     "text": [
      "[3, 4, 5]\n"
     ]
    }
   ],
   "source": [
    "print(top_k([3,6,8,78,4,9,5,93,7,65], 3))"
   ]
  },
  {
   "cell_type": "markdown",
   "metadata": {},
   "source": [
    "# 7、1.5n次比较找出数组的最大值和最小值"
   ]
  },
  {
   "cell_type": "code",
   "execution_count": 90,
   "metadata": {},
   "outputs": [],
   "source": [
    "def find_max_min(arr):\n",
    "    Min, Max = 1<<31, -1<<31\n",
    "    max_tmp, min_tmp = 0, 0\n",
    "    count = 0\n",
    "    i, j = 0, len(arr) - 1\n",
    "    while i <= j:\n",
    "        if arr[i] < arr[j]:\n",
    "            max_tmp, min_tmp = arr[j], arr[i]\n",
    "            count += 1\n",
    "        else:\n",
    "            max_tmp, min_tmp = arr[i], arr[j]\n",
    "            count += 1\n",
    "        if Max < max_tmp:\n",
    "            Max = max_tmp\n",
    "        if Min > min_tmp:\n",
    "            Min = min_tmp\n",
    "        count += 2\n",
    "        i += 1\n",
    "        j -= 1\n",
    "    return Min, Max, count"
   ]
  },
  {
   "cell_type": "code",
   "execution_count": 92,
   "metadata": {},
   "outputs": [
    {
     "data": {
      "text/plain": [
       "(1, 9, 15)"
      ]
     },
     "execution_count": 92,
     "metadata": {},
     "output_type": "execute_result"
    }
   ],
   "source": [
    "find_max_min([1,2,3,4,5,6,7,8,9])"
   ]
  },
  {
   "cell_type": "markdown",
   "metadata": {},
   "source": [
    "# 8、编辑距离"
   ]
  },
  {
   "cell_type": "code",
   "execution_count": 100,
   "metadata": {},
   "outputs": [],
   "source": [
    "def levenshtein_distance_recursive(str1, str2):\n",
    "    \"\"\"\n",
    "    递归求解\n",
    "    \"\"\"\n",
    "    if len(str1) == 0:\n",
    "        return len(str2)\n",
    "    elif len(str2) == 0:\n",
    "        return len(str1)\n",
    "    elif str1 == str2:\n",
    "        return 0\n",
    "    else:\n",
    "        pass\n",
    "    if str1[len(str1) - 1] == str2[len(str2) - 1]:\n",
    "        d = 0\n",
    "    else:\n",
    "        d = 1\n",
    "    return min(levenshtein_distance_recursive(str1[:-1], str2) + 1,\n",
    "               levenshtein_distance_recursive(str1, str2[:-1]) + 1,\n",
    "               levenshtein_distance_recursive(str1[:-1], str2[:-1]) + d)\n",
    "\n",
    "def levenshtein_distance(str1, str2):\n",
    "    \"\"\"\n",
    "    动态规划求解\n",
    "    \"\"\"\n",
    "    matrix = [[i + j for j in range(len(str2) + 1)] for i in range(len(str1) + 1)]\n",
    "    for i in range(1, len(str1) + 1):\n",
    "        for j in range(1, len(str2) + 1):\n",
    "            if str1[i - 1] == str2[j - 1]:\n",
    "                d = 0\n",
    "            else:\n",
    "                d = 1\n",
    "            matrix[i][j] = min(matrix[i - 1][j] + 1, matrix[i][j-1] + 1, matrix[i - 1][j - 1] + d)\n",
    "    return matrix[len(str1)][len(str2)]"
   ]
  },
  {
   "cell_type": "code",
   "execution_count": 103,
   "metadata": {},
   "outputs": [
    {
     "name": "stdout",
     "output_type": "stream",
     "text": [
      "3\n",
      "3\n"
     ]
    }
   ],
   "source": [
    "print(levenshtein_distance_recursive('2345', '12356'))\n",
    "print(levenshtein_distance('2345', '12356'))"
   ]
  },
  {
   "cell_type": "markdown",
   "metadata": {},
   "source": [
    "# 9、给定一个没有重复数字的序列，返回其所有可能的全排列\n",
    "输入: [1,2,3] 输出: [ [1,2,3], [1,3,2], [2,1,3], [2,3,1], [3,1,2], [3,2,1] ]"
   ]
  },
  {
   "cell_type": "code",
   "execution_count": 48,
   "metadata": {},
   "outputs": [],
   "source": [
    "def fun1(arr):\n",
    "    n = len(arr)\n",
    "    result = []\n",
    "    for i in arr:\n",
    "        tmp = []\n",
    "        if not result:\n",
    "            tmp.append([i])\n",
    "        else:\n",
    "            for res in result:\n",
    "                for k in range(len(res) + 1):\n",
    "                    tmp.append(res[:k] + [i] + res[k:])\n",
    "        result = tmp\n",
    "    return result\n",
    "\n",
    "\n",
    "def fun2(arr):\n",
    "    results = [arr]\n",
    "    n = len(arr)\n",
    "    indices = list(range(n))\n",
    "    cycles = list(range(n, 0, -1))\n",
    "    while True:\n",
    "        for i in reversed(range(n)):\n",
    "            cycles[i] -= 1\n",
    "            if cycles[i] == 0:\n",
    "                indices[i:] = indices[i+1:] + indices[i:i+1]\n",
    "                cycles[i] = n - i\n",
    "            else:\n",
    "                j = cycles[i]\n",
    "                indices[i], indices[-j] = indices[-j], indices[i]\n",
    "                results.append([arr[i] for i in indices])\n",
    "                break\n",
    "        else:\n",
    "            return results\n",
    "\n",
    "        \n",
    "def fun3(l):\n",
    "    if(len(l)<=1):\n",
    "        return [l]\n",
    "    r=[]\n",
    "    for i in range(len(l)):\n",
    "        s=l[:i]+l[i+1:]\n",
    "        p=fun3(s)\n",
    "        for x in p:\n",
    "            r.append(l[i:i+1]+x)\n",
    "    return r"
   ]
  },
  {
   "cell_type": "code",
   "execution_count": 52,
   "metadata": {},
   "outputs": [],
   "source": [
    "arr = [1, 2, 3]"
   ]
  },
  {
   "cell_type": "code",
   "execution_count": 53,
   "metadata": {},
   "outputs": [
    {
     "name": "stdout",
     "output_type": "stream",
     "text": [
      "CPU times: user 14 µs, sys: 1e+03 ns, total: 15 µs\n",
      "Wall time: 16.7 µs\n"
     ]
    },
    {
     "data": {
      "text/plain": [
       "[[3, 2, 1], [2, 3, 1], [2, 1, 3], [3, 1, 2], [1, 3, 2], [1, 2, 3]]"
      ]
     },
     "execution_count": 53,
     "metadata": {},
     "output_type": "execute_result"
    }
   ],
   "source": [
    "%%time\n",
    "fun1(arr)"
   ]
  },
  {
   "cell_type": "code",
   "execution_count": 54,
   "metadata": {},
   "outputs": [
    {
     "name": "stdout",
     "output_type": "stream",
     "text": [
      "CPU times: user 25 µs, sys: 0 ns, total: 25 µs\n",
      "Wall time: 29.1 µs\n"
     ]
    },
    {
     "data": {
      "text/plain": [
       "[[1, 2, 3], [1, 3, 2], [2, 1, 3], [2, 3, 1], [3, 1, 2], [3, 2, 1]]"
      ]
     },
     "execution_count": 54,
     "metadata": {},
     "output_type": "execute_result"
    }
   ],
   "source": [
    "%%time\n",
    "fun2(arr)"
   ]
  },
  {
   "cell_type": "code",
   "execution_count": 55,
   "metadata": {},
   "outputs": [
    {
     "name": "stdout",
     "output_type": "stream",
     "text": [
      "CPU times: user 17 µs, sys: 0 ns, total: 17 µs\n",
      "Wall time: 21 µs\n"
     ]
    },
    {
     "data": {
      "text/plain": [
       "[[1, 2, 3], [1, 3, 2], [2, 1, 3], [2, 3, 1], [3, 1, 2], [3, 2, 1]]"
      ]
     },
     "execution_count": 55,
     "metadata": {},
     "output_type": "execute_result"
    }
   ],
   "source": [
    "%%time\n",
    "fun3(arr)"
   ]
  },
  {
   "cell_type": "markdown",
   "metadata": {},
   "source": [
    "# 10、字符串编码问题\n",
    "输入：['time', 'me', 'bell', 'passtime', 'll']，输出：'passtime#bell#'，[4, 6, 9, 0, 11]"
   ]
  },
  {
   "cell_type": "code",
   "execution_count": 7,
   "metadata": {},
   "outputs": [
    {
     "name": "stdout",
     "output_type": "stream",
     "text": [
      "final length: 15\n",
      "final string: passtime#abell#\n",
      "final index: [4, 6, 10, 0, 12, 9]\n"
     ]
    }
   ],
   "source": [
    "arr = ['time', 'me', 'bell', 'passtime', 'll', 'abell']\n",
    "import re\n",
    "tmp = [arr[0]]\n",
    "result = len(arr[0]) + 1\n",
    "for i in range(1, len(arr)):\n",
    "    if sum([1 if s.endswith(arr[i]) else 0 for s in tmp]) > 0:\n",
    "        continue\n",
    "    len_ = len(tmp)\n",
    "    flag = True\n",
    "    for j in range(len_):\n",
    "        if arr[i].endswith(tmp[j]):\n",
    "            result += len(arr[i]) - len(tmp[j])\n",
    "            tmp[j] = arr[i]\n",
    "            flag = False\n",
    "            break\n",
    "    if flag:\n",
    "        result += len(arr[i]) + 1\n",
    "        tmp.append(arr[i])\n",
    "print('final length:', result)\n",
    "final_string = '#'.join(tmp) + '#'\n",
    "print('final string:', final_string)\n",
    "print('final index:', [final_string.index(s) for s in arr])"
   ]
  },
  {
   "cell_type": "markdown",
   "metadata": {},
   "source": [
    "# 11、数组中累加和为定值K的最长子数组长度\n",
    "* 我们可以求出以0位置开始，任意位置结束j的子数组和sum。假设0位置开始，任意位置i结束的子数组和temp，如果存在sum-temp==k，那么 i+1...j 位置即为所求子数组。为了保证该子数组最长，我们在j位置不变的情况下，需要使i位置出现的尽量靠前。\n",
    "* 此时字典来保存，key为子数组的和，value为此时子数组结尾元素的位置。根据字典的特性key唯一，后出现的temp不会被更新value，也就确保了temp出现的位置尽量靠前。\n",
    "* 因为所求子数组是 i+1...j 位置，为了保证第0位置的元素不被忽略，必须在字典添加(0: -1)。"
   ]
  },
  {
   "cell_type": "code",
   "execution_count": 15,
   "metadata": {},
   "outputs": [],
   "source": [
    "def fun(arr, k):\n",
    "    tmp = {0: -1}\n",
    "    s = 0\n",
    "    res = 0\n",
    "    for i in range(len(arr)):\n",
    "        s += arr[i]\n",
    "        if s - k in tmp:\n",
    "            res = max(res, i - tmp[s - k])\n",
    "        if s not in tmp:\n",
    "            tmp[s] = i\n",
    "    return res\n",
    "\n",
    "\n",
    "def fun2(nums, k):\n",
    "    res = 0\n",
    "    for i in range(len(nums)):\n",
    "        for j in range(i, len(nums)):\n",
    "            s = sum(nums[i:j])\n",
    "            if k == s and j - i > res:\n",
    "                res = j - i\n",
    "        if res > len(nums) - i - 1:\n",
    "            break\n",
    "    return res"
   ]
  },
  {
   "cell_type": "code",
   "execution_count": 14,
   "metadata": {},
   "outputs": [
    {
     "data": {
      "text/plain": [
       "6"
      ]
     },
     "execution_count": 14,
     "metadata": {},
     "output_type": "execute_result"
    }
   ],
   "source": [
    "fun([1,-2,5,-1,3,-1,-1,-2], 3)"
   ]
  },
  {
   "cell_type": "markdown",
   "metadata": {},
   "source": [
    "# 12、矩阵连乘最小计算量\n",
    "<img src=\"./12.png\" width=800 />"
   ]
  },
  {
   "cell_type": "code",
   "execution_count": 1,
   "metadata": {},
   "outputs": [],
   "source": [
    "def matrixchain(chain):\n",
    "    n = len(chain)\n",
    "    m = [[0] * n for _ in range(n)]\n",
    "    s = [[0] * n for _ in range(n)]\n",
    "    for r in range(1, n-1):\n",
    "        for i in range(1, n - r):\n",
    "            j = i + r\n",
    "            m[i][j] = m[i+1][j] + chain[i-1] * chain[i] * chain[j]\n",
    "            s[i][j] = i\n",
    "            for k in range(i, j):\n",
    "                t = m[i][k] + m[k+1][j] + chain[i-1] * chain[k] * chain[j]\n",
    "                if m[i][j] > t:\n",
    "                    m[i][j] = t\n",
    "                    s[i][j] = k\n",
    "    return m, s\n",
    "\n",
    "def print_(i, j, s):\n",
    "    if i == j:\n",
    "        print(i, end='')\n",
    "        return\n",
    "    print(\"(\", end='')\n",
    "    print_(i, s[i][j], s)\n",
    "    print_(s[i][j]+1, j, s)\n",
    "    print(\")\", end='')"
   ]
  },
  {
   "cell_type": "code",
   "execution_count": 2,
   "metadata": {},
   "outputs": [],
   "source": [
    "arr = [5, 20, 50, 1, 100]\n",
    "m, s = matrixchain(arr)"
   ]
  },
  {
   "cell_type": "code",
   "execution_count": 3,
   "metadata": {},
   "outputs": [
    {
     "name": "stdout",
     "output_type": "stream",
     "text": [
      "最优决策:((1(23))4)\n",
      "最小计算量: 1600\n"
     ]
    }
   ],
   "source": [
    "print('最优决策:', end='')\n",
    "print_(1, len(arr)-1, s)\n",
    "print('\\n最小计算量:', m[1][-1])"
   ]
  },
  {
   "cell_type": "markdown",
   "metadata": {},
   "source": [
    "# 13、两字符串的最长公共子序列"
   ]
  },
  {
   "cell_type": "code",
   "execution_count": null,
   "metadata": {},
   "outputs": [],
   "source": []
  }
 ],
 "metadata": {
  "kernelspec": {
   "display_name": "Python 3",
   "language": "python",
   "name": "python3"
  },
  "language_info": {
   "codemirror_mode": {
    "name": "ipython",
    "version": 3
   },
   "file_extension": ".py",
   "mimetype": "text/x-python",
   "name": "python",
   "nbconvert_exporter": "python",
   "pygments_lexer": "ipython3",
   "version": "3.6.8"
  }
 },
 "nbformat": 4,
 "nbformat_minor": 2
}
